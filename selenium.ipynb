{
 "cells": [
  {
   "cell_type": "code",
   "execution_count": 1,
   "id": "d79e46da",
   "metadata": {},
   "outputs": [],
   "source": [
    "from selenium import webdriver\n",
    "from selenium.webdriver.common.by import By\n",
    "from selenium.webdriver.support.select import Select\n",
    "from selenium.webdriver.support.ui import WebDriverWait\n",
    "from selenium.webdriver.support import expected_conditions as EC"
   ]
  },
  {
   "cell_type": "code",
   "execution_count": 28,
   "id": "9866d1dc",
   "metadata": {},
   "outputs": [],
   "source": [
    "from selenium import webdriver\n",
    "from selenium.webdriver.common.by import By\n",
    "\n",
    "driver = webdriver.Edge()\n",
    "\n",
    "driver.get('https://agmarknet.gov.in/PriceAndArrivals/CommodityDailyStateWise.aspx')\n",
    "\n",
    "#lement = driver.find_element(By.ID, 'sb_form_q')\n",
    "#lement.send_keys('WebDriver')\n",
    "#lement.submit()\n"
   ]
  },
  {
   "cell_type": "code",
   "execution_count": 29,
   "id": "088be7c4",
   "metadata": {},
   "outputs": [
    {
     "name": "stdout",
     "output_type": "stream",
     "text": [
      "no element\n",
      "no element\n",
      "no element\n",
      "no element\n",
      "no element\n",
      "no element\n",
      "no element\n",
      "no element\n",
      "no element\n"
     ]
    },
    {
     "ename": "NoSuchWindowException",
     "evalue": "Message: no such window: target window already closed\nfrom unknown error: web view not found\n  (Session info: MicrosoftEdge=112.0.1722.64)\nStacktrace:\nBacktrace:\n\tGetHandleVerifier [0x00007FF63CB5DB32+60274]\n\tMicrosoft::Applications::Events::EventProperty::~EventProperty [0x00007FF63CAEE792+818882]\n\t(No symbol) [0x00007FF63C76DFAE]\n\t(No symbol) [0x00007FF63C747B3B]\n\t(No symbol) [0x00007FF63C7D341F]\n\t(No symbol) [0x00007FF63C7E820F]\n\t(No symbol) [0x00007FF63C7CF343]\n\t(No symbol) [0x00007FF63C7A1796]\n\t(No symbol) [0x00007FF63C7A0975]\n\t(No symbol) [0x00007FF63C7A1F04]\n\tMicrosoft::Applications::Events::EventProperties::SetLevel [0x00007FF63C9F6C17+1676711]\n\tMicrosoft::Applications::Events::EventProperties::SetLevel [0x00007FF63C89EEDD+268397]\n\tMicrosoft::Applications::Events::EventProperty::~EventProperty [0x00007FF63CA2F927+36951]\n\tMicrosoft::Applications::Events::EventProperty::~EventProperty [0x00007FF63CA27A35+4453]\n\tMicrosoft::Applications::Events::ILogManager::DispatchEventBroadcast [0x00007FF63CD27ED3+1319011]\n\tMicrosoft::Applications::Events::EventProperty::~EventProperty [0x00007FF63CAF684C+851836]\n\tMicrosoft::Applications::Events::EventProperty::~EventProperty [0x00007FF63CAF28B4+835556]\n\tMicrosoft::Applications::Events::EventProperty::~EventProperty [0x00007FF63CAF2A0C+835900]\n\tMicrosoft::Applications::Events::EventProperty::~EventProperty [0x00007FF63CAE85E1+793873]\n\tBaseThreadInitThunk [0x00007FF9D8BB269D+29]\n\tRtlUserThreadStart [0x00007FF9D96EA9F8+40]\n",
     "output_type": "error",
     "traceback": [
      "\u001b[1;31m---------------------------------------------------------------------------\u001b[0m",
      "\u001b[1;31mNoSuchWindowException\u001b[0m                     Traceback (most recent call last)",
      "Cell \u001b[1;32mIn[29], line 18\u001b[0m\n\u001b[0;32m     16\u001b[0m dropdown_box\u001b[38;5;241m.\u001b[39mselect_by_visible_text(\u001b[38;5;124m\"\u001b[39m\u001b[38;5;124m2017\u001b[39m\u001b[38;5;124m\"\u001b[39m)\n\u001b[0;32m     17\u001b[0m \u001b[38;5;28;01mfor\u001b[39;00m j \u001b[38;5;129;01min\u001b[39;00m \u001b[38;5;28mrange\u001b[39m(\u001b[38;5;241m1\u001b[39m,\u001b[38;5;241m8\u001b[39m):\n\u001b[1;32m---> 18\u001b[0m     dropdown_box \u001b[38;5;241m=\u001b[39m Select(\u001b[43mdriver\u001b[49m\u001b[38;5;241;43m.\u001b[39;49m\u001b[43mfind_element\u001b[49m\u001b[43m(\u001b[49m\u001b[43mBy\u001b[49m\u001b[38;5;241;43m.\u001b[39;49m\u001b[43mXPATH\u001b[49m\u001b[43m,\u001b[49m\u001b[38;5;124;43m\"\u001b[39;49m\u001b[38;5;124;43m//select[@name=\u001b[39;49m\u001b[38;5;124;43m'\u001b[39;49m\u001b[38;5;124;43mctl00$cphBody$cboState\u001b[39;49m\u001b[38;5;124;43m'\u001b[39;49m\u001b[38;5;124;43m]\u001b[39;49m\u001b[38;5;124;43m\"\u001b[39;49m\u001b[43m)\u001b[49m)\n\u001b[0;32m     19\u001b[0m     dropdown_box\u001b[38;5;241m.\u001b[39mselect_by_visible_text(\u001b[38;5;124m\"\u001b[39m\u001b[38;5;124mAndhra Pradesh\u001b[39m\u001b[38;5;124m\"\u001b[39m)\n\u001b[0;32m     20\u001b[0m     dropdown_box \u001b[38;5;241m=\u001b[39m Select(driver\u001b[38;5;241m.\u001b[39mfind_element(By\u001b[38;5;241m.\u001b[39mXPATH,\u001b[38;5;124m\"\u001b[39m\u001b[38;5;124m//select[@name=\u001b[39m\u001b[38;5;124m'\u001b[39m\u001b[38;5;124mctl00$cphBody$cboMonth\u001b[39m\u001b[38;5;124m'\u001b[39m\u001b[38;5;124m]\u001b[39m\u001b[38;5;124m\"\u001b[39m))\n",
      "File \u001b[1;32m~\\AppData\\Local\\Programs\\Python\\Python311\\Lib\\site-packages\\selenium\\webdriver\\remote\\webdriver.py:831\u001b[0m, in \u001b[0;36mWebDriver.find_element\u001b[1;34m(self, by, value)\u001b[0m\n\u001b[0;32m    828\u001b[0m     by \u001b[38;5;241m=\u001b[39m By\u001b[38;5;241m.\u001b[39mCSS_SELECTOR\n\u001b[0;32m    829\u001b[0m     value \u001b[38;5;241m=\u001b[39m \u001b[38;5;124mf\u001b[39m\u001b[38;5;124m'\u001b[39m\u001b[38;5;124m[name=\u001b[39m\u001b[38;5;124m\"\u001b[39m\u001b[38;5;132;01m{\u001b[39;00mvalue\u001b[38;5;132;01m}\u001b[39;00m\u001b[38;5;124m\"\u001b[39m\u001b[38;5;124m]\u001b[39m\u001b[38;5;124m'\u001b[39m\n\u001b[1;32m--> 831\u001b[0m \u001b[38;5;28;01mreturn\u001b[39;00m \u001b[38;5;28;43mself\u001b[39;49m\u001b[38;5;241;43m.\u001b[39;49m\u001b[43mexecute\u001b[49m\u001b[43m(\u001b[49m\u001b[43mCommand\u001b[49m\u001b[38;5;241;43m.\u001b[39;49m\u001b[43mFIND_ELEMENT\u001b[49m\u001b[43m,\u001b[49m\u001b[43m \u001b[49m\u001b[43m{\u001b[49m\u001b[38;5;124;43m\"\u001b[39;49m\u001b[38;5;124;43musing\u001b[39;49m\u001b[38;5;124;43m\"\u001b[39;49m\u001b[43m:\u001b[49m\u001b[43m \u001b[49m\u001b[43mby\u001b[49m\u001b[43m,\u001b[49m\u001b[43m \u001b[49m\u001b[38;5;124;43m\"\u001b[39;49m\u001b[38;5;124;43mvalue\u001b[39;49m\u001b[38;5;124;43m\"\u001b[39;49m\u001b[43m:\u001b[49m\u001b[43m \u001b[49m\u001b[43mvalue\u001b[49m\u001b[43m}\u001b[49m\u001b[43m)\u001b[49m[\u001b[38;5;124m\"\u001b[39m\u001b[38;5;124mvalue\u001b[39m\u001b[38;5;124m\"\u001b[39m]\n",
      "File \u001b[1;32m~\\AppData\\Local\\Programs\\Python\\Python311\\Lib\\site-packages\\selenium\\webdriver\\remote\\webdriver.py:440\u001b[0m, in \u001b[0;36mWebDriver.execute\u001b[1;34m(self, driver_command, params)\u001b[0m\n\u001b[0;32m    438\u001b[0m response \u001b[38;5;241m=\u001b[39m \u001b[38;5;28mself\u001b[39m\u001b[38;5;241m.\u001b[39mcommand_executor\u001b[38;5;241m.\u001b[39mexecute(driver_command, params)\n\u001b[0;32m    439\u001b[0m \u001b[38;5;28;01mif\u001b[39;00m response:\n\u001b[1;32m--> 440\u001b[0m     \u001b[38;5;28;43mself\u001b[39;49m\u001b[38;5;241;43m.\u001b[39;49m\u001b[43merror_handler\u001b[49m\u001b[38;5;241;43m.\u001b[39;49m\u001b[43mcheck_response\u001b[49m\u001b[43m(\u001b[49m\u001b[43mresponse\u001b[49m\u001b[43m)\u001b[49m\n\u001b[0;32m    441\u001b[0m     response[\u001b[38;5;124m\"\u001b[39m\u001b[38;5;124mvalue\u001b[39m\u001b[38;5;124m\"\u001b[39m] \u001b[38;5;241m=\u001b[39m \u001b[38;5;28mself\u001b[39m\u001b[38;5;241m.\u001b[39m_unwrap_value(response\u001b[38;5;241m.\u001b[39mget(\u001b[38;5;124m\"\u001b[39m\u001b[38;5;124mvalue\u001b[39m\u001b[38;5;124m\"\u001b[39m, \u001b[38;5;28;01mNone\u001b[39;00m))\n\u001b[0;32m    442\u001b[0m     \u001b[38;5;28;01mreturn\u001b[39;00m response\n",
      "File \u001b[1;32m~\\AppData\\Local\\Programs\\Python\\Python311\\Lib\\site-packages\\selenium\\webdriver\\remote\\errorhandler.py:245\u001b[0m, in \u001b[0;36mErrorHandler.check_response\u001b[1;34m(self, response)\u001b[0m\n\u001b[0;32m    243\u001b[0m         alert_text \u001b[38;5;241m=\u001b[39m value[\u001b[38;5;124m\"\u001b[39m\u001b[38;5;124malert\u001b[39m\u001b[38;5;124m\"\u001b[39m]\u001b[38;5;241m.\u001b[39mget(\u001b[38;5;124m\"\u001b[39m\u001b[38;5;124mtext\u001b[39m\u001b[38;5;124m\"\u001b[39m)\n\u001b[0;32m    244\u001b[0m     \u001b[38;5;28;01mraise\u001b[39;00m exception_class(message, screen, stacktrace, alert_text)  \u001b[38;5;66;03m# type: ignore[call-arg]  # mypy is not smart enough here\u001b[39;00m\n\u001b[1;32m--> 245\u001b[0m \u001b[38;5;28;01mraise\u001b[39;00m exception_class(message, screen, stacktrace)\n",
      "\u001b[1;31mNoSuchWindowException\u001b[0m: Message: no such window: target window already closed\nfrom unknown error: web view not found\n  (Session info: MicrosoftEdge=112.0.1722.64)\nStacktrace:\nBacktrace:\n\tGetHandleVerifier [0x00007FF63CB5DB32+60274]\n\tMicrosoft::Applications::Events::EventProperty::~EventProperty [0x00007FF63CAEE792+818882]\n\t(No symbol) [0x00007FF63C76DFAE]\n\t(No symbol) [0x00007FF63C747B3B]\n\t(No symbol) [0x00007FF63C7D341F]\n\t(No symbol) [0x00007FF63C7E820F]\n\t(No symbol) [0x00007FF63C7CF343]\n\t(No symbol) [0x00007FF63C7A1796]\n\t(No symbol) [0x00007FF63C7A0975]\n\t(No symbol) [0x00007FF63C7A1F04]\n\tMicrosoft::Applications::Events::EventProperties::SetLevel [0x00007FF63C9F6C17+1676711]\n\tMicrosoft::Applications::Events::EventProperties::SetLevel [0x00007FF63C89EEDD+268397]\n\tMicrosoft::Applications::Events::EventProperty::~EventProperty [0x00007FF63CA2F927+36951]\n\tMicrosoft::Applications::Events::EventProperty::~EventProperty [0x00007FF63CA27A35+4453]\n\tMicrosoft::Applications::Events::ILogManager::DispatchEventBroadcast [0x00007FF63CD27ED3+1319011]\n\tMicrosoft::Applications::Events::EventProperty::~EventProperty [0x00007FF63CAF684C+851836]\n\tMicrosoft::Applications::Events::EventProperty::~EventProperty [0x00007FF63CAF28B4+835556]\n\tMicrosoft::Applications::Events::EventProperty::~EventProperty [0x00007FF63CAF2A0C+835900]\n\tMicrosoft::Applications::Events::EventProperty::~EventProperty [0x00007FF63CAE85E1+793873]\n\tBaseThreadInitThunk [0x00007FF9D8BB269D+29]\n\tRtlUserThreadStart [0x00007FF9D96EA9F8+40]\n"
     ]
    }
   ],
   "source": [
    "for i in range(43):\n",
    "    dropdown_box = Select(driver.find_element(By.XPATH,\"//select[@name='ctl00$cphBody$cboState']\"))\n",
    "    dropdown_box.select_by_visible_text(\"Andhra Pradesh\")\n",
    "    dropdown_box = Select(driver.find_element(By.XPATH,\"//select[@name='ctl00$cphBody$cboMonth']\"))\n",
    "    dropdown_box.select_by_visible_text(\"December\")\n",
    "    dropdown_box = Select(driver.find_element(By.XPATH,\"//select[@name='ctl00$cphBody$cboYear']\"))\n",
    "    dropdown_box.select_by_visible_text(\"2017\")\n",
    "    \n",
    "    count=0\n",
    "    for i in range(3,9):\n",
    "        dropdown_box = Select(driver.find_element(By.XPATH,\"//select[@name='ctl00$cphBody$cboState']\"))\n",
    "        dropdown_box.select_by_visible_text(\"Andhra Pradesh\")\n",
    "        dropdown_box = Select(driver.find_element(By.XPATH,\"//select[@name='ctl00$cphBody$cboMonth']\"))\n",
    "        dropdown_box.select_by_visible_text(\"December\")\n",
    "        dropdown_box = Select(driver.find_element(By.XPATH,\"//select[@name='ctl00$cphBody$cboYear']\"))\n",
    "        dropdown_box.select_by_visible_text(\"2017\")\n",
    "        for j in range(1,8):\n",
    "            dropdown_box = Select(driver.find_element(By.XPATH,\"//select[@name='ctl00$cphBody$cboState']\"))\n",
    "            dropdown_box.select_by_visible_text(\"Andhra Pradesh\")\n",
    "            dropdown_box = Select(driver.find_element(By.XPATH,\"//select[@name='ctl00$cphBody$cboMonth']\"))\n",
    "            dropdown_box.select_by_visible_text(\"December\")\n",
    "            dropdown_box = Select(driver.find_element(By.XPATH,\"//select[@name='ctl00$cphBody$cboYear']\"))\n",
    "            dropdown_box.select_by_visible_text(\"2017\")\n",
    "            wait=WebDriverWait(driver,20)\n",
    "            try:\n",
    "                wait.until(EC.presence_of_element_located((By.XPATH,f\"//*[@id='cphBody_Calendar1']/tbody/tr[{i}]/td[{j}]/a\"))).click()\n",
    "                wait.until(EC.presence_of_element_located((By.XPATH,\"//*[@id='cphBody_btnSubmit']\"))).click()\n",
    "                wait.until(EC.presence_of_element_located((By.XPATH,\"//*[@id='cphBody_ButtonExcel']\"))).click()\n",
    "                count=count+1\n",
    "                wait.until(EC.presence_of_element_located((By.XPATH,\"//*[@id='cphBody_btnBack']\"))).click()\n",
    "                if(count==31):\n",
    "                    break\n",
    "            except:\n",
    "                print(\"no element\")"
   ]
  },
  {
   "cell_type": "code",
   "execution_count": 36,
   "id": "f8aeec0a",
   "metadata": {},
   "outputs": [],
   "source": [
    "wait=WebDriverWait(driver,30)\n",
    "wait.until(EC.presence_of_element_located((By.XPATH,\"//*[@id='cphBody_btnSubmit']\"))).click()"
   ]
  },
  {
   "cell_type": "code",
   "execution_count": 30,
   "id": "cb77d68c",
   "metadata": {},
   "outputs": [],
   "source": [
    "dropdown_box = Select(driver.find_element(By.XPATH,\"//select[@name='ctl00$cphBody$cboState']\"))\n",
    "dropdown_box.select_by_visible_text(\"Andhra Pradesh\")"
   ]
  },
  {
   "cell_type": "code",
   "execution_count": 31,
   "id": "064dd774",
   "metadata": {},
   "outputs": [],
   "source": [
    "dropdown_box = Select(driver.find_element(By.XPATH,\"//select[@name='ctl00$cphBody$cboMonth']\"))\n",
    "dropdown_box.select_by_visible_text(\"January\")\n"
   ]
  },
  {
   "cell_type": "code",
   "execution_count": 32,
   "id": "7b9df38d",
   "metadata": {},
   "outputs": [],
   "source": [
    "dropdown_box = Select(driver.find_element(By.XPATH,\"//select[@name='ctl00$cphBody$cboYear']\"))\n",
    "dropdown_box.select_by_visible_text(\"2023\")"
   ]
  },
  {
   "cell_type": "code",
   "execution_count": 34,
   "id": "3ce71cca",
   "metadata": {
    "scrolled": true
   },
   "outputs": [],
   "source": [
    "#element = driver.find_element(By.XPATH,\"//*[@id='cphBody_Calendar1']/tbody/tr[4]/td[1]/a\")\n",
    "#element.click()\n",
    "wait=WebDriverWait(driver,10)\n",
    "wait.until(EC.presence_of_element_located((By.XPATH,\"//*[@id='cphBody_Calendar1']/tbody/tr[4]/td[1]/a\"))).click()"
   ]
  },
  {
   "cell_type": "code",
   "execution_count": 35,
   "id": "154cb9cb",
   "metadata": {},
   "outputs": [],
   "source": [
    "i=3\n",
    "j=7\n"
   ]
  },
  {
   "cell_type": "code",
   "execution_count": 47,
   "id": "9762fcf4",
   "metadata": {},
   "outputs": [],
   "source": [
    "button = driver.find_element(By.XPATH,\"//*[@id='cphBody_btnSubmit']\")\n",
    "button.click()"
   ]
  },
  {
   "cell_type": "code",
   "execution_count": 48,
   "id": "cdc37b60",
   "metadata": {},
   "outputs": [],
   "source": [
    "button = driver.find_element(By.XPATH,\"//*[@id='cphBody_btnBack']\")\n",
    "button.click()"
   ]
  },
  {
   "cell_type": "code",
   "execution_count": 30,
   "id": "a85f1c03",
   "metadata": {},
   "outputs": [],
   "source": [
    "driver.forward()"
   ]
  },
  {
   "cell_type": "code",
   "execution_count": 16,
   "id": "7a49ca76",
   "metadata": {},
   "outputs": [],
   "source": [
    "driver.back()"
   ]
  },
  {
   "cell_type": "code",
   "execution_count": 23,
   "id": "20d2d205",
   "metadata": {},
   "outputs": [],
   "source": [
    "# TO CLICK ON A LINK\n",
    "button = driver.find_element(By.LINK_TEXT, 'REGISTER')\n",
    "button.click()"
   ]
  },
  {
   "cell_type": "code",
   "execution_count": 26,
   "id": "cd168f41",
   "metadata": {},
   "outputs": [],
   "source": [
    "# TO CLICK LINK WHICH WE KNOW ONLY PARTIALLY\n",
    "button = driver.find_element(By.PARTIAL_LINK_TEXT, \"BUS\")\n",
    "button.click()\n",
    "\n",
    "#element - 1 result\n",
    "#elements- multiple results\n",
    "\n",
    "# many more functions : https://selenium-python.readthedocs.io/locating-elements.html\n",
    "#find_elements(By.ID, \"id\")\n",
    "#find_elements(By.NAME, \"name\")\n",
    "#find_element(By.XPATH, \"xpath\")\n",
    "#find_element(By.LINK_TEXT, \"link text\")\n",
    "#find_element(By.PARTIAL_LINK_TEXT, \"partial link text\")\n",
    "#find_element(By.TAG_NAME, \"tag name\")\n",
    "#find_element(By.CLASS_NAME, \"class name\")\n",
    "#find_element(By.CSS_SELECTOR, \"css selector\")"
   ]
  },
  {
   "cell_type": "code",
   "execution_count": 28,
   "id": "650887eb",
   "metadata": {},
   "outputs": [],
   "source": [
    "# MAXIMIZE WINDOW SCREEN\n",
    "driver.maximize_window()"
   ]
  },
  {
   "cell_type": "code",
   "execution_count": 29,
   "id": "481af7ae",
   "metadata": {},
   "outputs": [],
   "source": [
    "# REFRESH PAGE\n",
    "driver.refresh()"
   ]
  },
  {
   "cell_type": "code",
   "execution_count": 30,
   "id": "8bb2029f",
   "metadata": {},
   "outputs": [],
   "source": [
    "#CLOSE - ONLY CURRENT TAB IS CLOSED\n",
    "driver.close()"
   ]
  },
  {
   "cell_type": "code",
   "execution_count": 31,
   "id": "8a42ea52",
   "metadata": {},
   "outputs": [],
   "source": [
    "# QUIT - ALL THE TABS OR ENTIRE SESSION WILL BE CLOSED\n",
    "driver.quit()"
   ]
  },
  {
   "cell_type": "code",
   "execution_count": 8,
   "id": "6575f73f",
   "metadata": {},
   "outputs": [],
   "source": [
    "#Google Search\n",
    "from selenium import webdriver\n",
    "from selenium.webdriver.common.by import By\n",
    "\n",
    "driver = webdriver.Edge()\n",
    "driver.get('https://www.google.com/')"
   ]
  },
  {
   "cell_type": "code",
   "execution_count": 5,
   "id": "bab07e32",
   "metadata": {},
   "outputs": [],
   "source": [
    "text_box=driver.find_element(By.NAME, \"q\")"
   ]
  },
  {
   "cell_type": "code",
   "execution_count": 6,
   "id": "4f59250f",
   "metadata": {},
   "outputs": [],
   "source": [
    "text_box.send_keys('visakhapatnam')\n",
    "text_box.submit()"
   ]
  },
  {
   "cell_type": "code",
   "execution_count": 13,
   "id": "1f3224d0",
   "metadata": {},
   "outputs": [],
   "source": [
    "#google maps \n",
    "driver = webdriver.Edge()\n",
    "driver.get('https://www.google.com/maps')"
   ]
  },
  {
   "cell_type": "code",
   "execution_count": 15,
   "id": "8eaac12f",
   "metadata": {},
   "outputs": [],
   "source": [
    "text_box=driver.find_element(By.NAME, \"q\")\n",
    "text_box.send_keys('visakhapatnam,andhra pradesh')\n",
    "driver.find_element(By.CLASS_NAME, \"mL3xi\").click()"
   ]
  },
  {
   "cell_type": "code",
   "execution_count": 2,
   "id": "839529a7",
   "metadata": {},
   "outputs": [],
   "source": [
    "# no element exception APSRTC, INDIAN RAILWYS"
   ]
  },
  {
   "cell_type": "code",
   "execution_count": null,
   "id": "4010c7f7",
   "metadata": {},
   "outputs": [],
   "source": [
    "## Wait before clicking ( explicit wait)"
   ]
  },
  {
   "cell_type": "code",
   "execution_count": 7,
   "id": "ffb6ea9c",
   "metadata": {},
   "outputs": [],
   "source": [
    "from selenium import webdriver\n",
    "from selenium.webdriver.common.by import By\n",
    "from selenium.webdriver.support.ui import WebDriverWait\n",
    "from selenium.webdriver.support import expected_conditions as EC"
   ]
  },
  {
   "cell_type": "code",
   "execution_count": 27,
   "id": "61f35dd9",
   "metadata": {},
   "outputs": [],
   "source": [
    "#open the website\n",
    "driver = webdriver.Edge()\n",
    "driver.get('https://www.amazon.in/')\n",
    "\n",
    "#type on the search box\n",
    "text_box=driver.find_element(By.ID,\"twotabsearchtextbox\")\n",
    "text_box.send_keys('samsung phones')\n",
    "text_box.submit()\n"
   ]
  },
  {
   "cell_type": "code",
   "execution_count": 26,
   "id": "d67767cf",
   "metadata": {},
   "outputs": [
    {
     "data": {
      "text/plain": [
       "<selenium.webdriver.remote.webelement.WebElement (session=\"6137e344d933e1eed912e9acbd909d2c\", element=\"9634adad-35f1-4b63-abdb-ba30a3cf7003\")>"
      ]
     },
     "execution_count": 26,
     "metadata": {},
     "output_type": "execute_result"
    }
   ],
   "source": [
    "#to find out the link\n",
    "# phone_1=driver.find_element(By.XPATH, \"//h2[contains(@class,'a-size-mini a-spacing-none a-color-base s-line-clamp-2')]/a\")"
   ]
  },
  {
   "cell_type": "code",
   "execution_count": 29,
   "id": "e8438187",
   "metadata": {},
   "outputs": [],
   "source": [
    "wait=WebDriverWait(driver,10)\n",
    "phone_1=wait.until(EC.presence_of_element_located((By.XPATH,\"//h2[contains(@class,'a-size-mini a-spacing-none a-color-base s-line-clamp-2')]/a\")))\n",
    "phone_1.click()"
   ]
  },
  {
   "cell_type": "code",
   "execution_count": 10,
   "id": "ad090030",
   "metadata": {},
   "outputs": [],
   "source": [
    "## RADIO BUTTON AND CHECK BOXES\n",
    "from selenium import webdriver\n",
    "from selenium.webdriver.common.by import By\n",
    "from selenium.webdriver.support.ui import WebDriverWait\n",
    "from selenium.webdriver.support import expected_conditions as EC\n",
    "\n",
    "driver = webdriver.Edge()\n",
    "driver.get('https://demoqa.com/automation-practice-form')"
   ]
  },
  {
   "cell_type": "code",
   "execution_count": 13,
   "id": "24a18115",
   "metadata": {},
   "outputs": [
    {
     "data": {
      "text/plain": [
       "[<selenium.webdriver.remote.webelement.WebElement (session=\"5c267f430035115be9ff9afe7be3eb16\", element=\"746516ed-d7e9-4138-9fde-6b1a44a27f03\")>,\n",
       " <selenium.webdriver.remote.webelement.WebElement (session=\"5c267f430035115be9ff9afe7be3eb16\", element=\"13c97621-cffa-41ca-bdbf-117c1db0042e\")>,\n",
       " <selenium.webdriver.remote.webelement.WebElement (session=\"5c267f430035115be9ff9afe7be3eb16\", element=\"224211fe-f01e-4c21-8e49-5230c46613ce\")>,\n",
       " <selenium.webdriver.remote.webelement.WebElement (session=\"5c267f430035115be9ff9afe7be3eb16\", element=\"d4cb7129-8015-4fe3-a7a8-43856122e2f3\")>,\n",
       " <selenium.webdriver.remote.webelement.WebElement (session=\"5c267f430035115be9ff9afe7be3eb16\", element=\"33fdbc13-d5de-4214-9e50-57bae8bed084\")>,\n",
       " <selenium.webdriver.remote.webelement.WebElement (session=\"5c267f430035115be9ff9afe7be3eb16\", element=\"1112e88f-e6cd-4abc-a891-4758ea0d61b3\")>,\n",
       " <selenium.webdriver.remote.webelement.WebElement (session=\"5c267f430035115be9ff9afe7be3eb16\", element=\"7805ed24-a2a1-4ea1-ae1b-6c0ca0938f7e\")>,\n",
       " <selenium.webdriver.remote.webelement.WebElement (session=\"5c267f430035115be9ff9afe7be3eb16\", element=\"621b32c3-c93b-4c27-ba36-7ba2cb75641d\")>,\n",
       " <selenium.webdriver.remote.webelement.WebElement (session=\"5c267f430035115be9ff9afe7be3eb16\", element=\"4ccf83f4-1f40-4c1f-9bd7-d1dd067c7566\")>,\n",
       " <selenium.webdriver.remote.webelement.WebElement (session=\"5c267f430035115be9ff9afe7be3eb16\", element=\"017c9e42-c3ff-4457-bb11-8537517d3878\")>,\n",
       " <selenium.webdriver.remote.webelement.WebElement (session=\"5c267f430035115be9ff9afe7be3eb16\", element=\"d2038554-64dc-4341-afe5-270b3c1a1b36\")>,\n",
       " <selenium.webdriver.remote.webelement.WebElement (session=\"5c267f430035115be9ff9afe7be3eb16\", element=\"8deb8648-356d-4c77-9e0a-225f50f1fd17\")>,\n",
       " <selenium.webdriver.remote.webelement.WebElement (session=\"5c267f430035115be9ff9afe7be3eb16\", element=\"7f811767-8179-40ce-a8ed-69dc2e318a56\")>,\n",
       " <selenium.webdriver.remote.webelement.WebElement (session=\"5c267f430035115be9ff9afe7be3eb16\", element=\"a81e806d-82d8-45b1-9174-08346d03c052\")>,\n",
       " <selenium.webdriver.remote.webelement.WebElement (session=\"5c267f430035115be9ff9afe7be3eb16\", element=\"bdc8b9f3-92dc-4668-ad57-cb227a559231\")>]"
      ]
     },
     "execution_count": 13,
     "metadata": {},
     "output_type": "execute_result"
    }
   ],
   "source": [
    "a=driver.find_elements(By.XPATH,\"//input[@name='contact']\")\n",
    "a"
   ]
  },
  {
   "cell_type": "code",
   "execution_count": 23,
   "id": "97504c96",
   "metadata": {},
   "outputs": [],
   "source": [
    "###\n",
    "#  SCROLL DOWN#\n",
    "##\n",
    "from selenium import webdriver\n",
    "from selenium.webdriver.common.by import By\n",
    "from selenium.webdriver.support.ui import WebDriverWait\n",
    "from selenium.webdriver.support import expected_conditions as EC\n",
    "import time"
   ]
  },
  {
   "cell_type": "code",
   "execution_count": 25,
   "id": "b36c7759",
   "metadata": {},
   "outputs": [],
   "source": []
  },
  {
   "cell_type": "code",
   "execution_count": 22,
   "id": "f9464ab8",
   "metadata": {},
   "outputs": [],
   "source": [
    "driver.execute_script(\"window.scrollBy(0,1000);\")"
   ]
  },
  {
   "cell_type": "code",
   "execution_count": 24,
   "id": "9f49c992",
   "metadata": {},
   "outputs": [],
   "source": [
    "for i in range(5):\n",
    "    driver.execute_script(\"window.scrollBy(0,1000);\")\n",
    "    time.sleep(4)"
   ]
  },
  {
   "cell_type": "code",
   "execution_count": 26,
   "id": "0c8cfdcb",
   "metadata": {},
   "outputs": [
    {
     "data": {
      "text/plain": [
       "7725"
      ]
     },
     "execution_count": 26,
     "metadata": {},
     "output_type": "execute_result"
    }
   ],
   "source": [
    "## Find hight of body tag or(hight till which tweets/feed/page is loaded )\n",
    "driver.execute_script('return document.body.scrollHeight;')"
   ]
  },
  {
   "cell_type": "code",
   "execution_count": 27,
   "id": "1addc413",
   "metadata": {},
   "outputs": [],
   "source": [
    "## scroll till current loaded tweets\n",
    "driver.execute_script('window.scrollTo(0,document.body.scrollHeight);')"
   ]
  },
  {
   "cell_type": "code",
   "execution_count": 28,
   "id": "081b85b9",
   "metadata": {},
   "outputs": [
    {
     "ename": "NoSuchWindowException",
     "evalue": "Message: no such window: target window already closed\nfrom unknown error: web view not found\n  (Session info: MicrosoftEdge=108.0.1462.54)\nStacktrace:\nBacktrace:\n\tMicrosoft::Applications::Events::EventProperties::SetProperty [0x00007FF746C091D2+14306]\n\tMicrosoft::Applications::Events::EventProperty::EventProperty [0x00007FF746B90992+842866]\n\t(No symbol) [0x00007FF746841D90]\n\t(No symbol) [0x00007FF74681B5F4]\n\t(No symbol) [0x00007FF7468A9729]\n\t(No symbol) [0x00007FF7468BED52]\n\t(No symbol) [0x00007FF7468A5B03]\n\t(No symbol) [0x00007FF7468773B8]\n\t(No symbol) [0x00007FF74687638E]\n\t(No symbol) [0x00007FF746877AE4]\n\tMicrosoft::Applications::Events::EventProperty::EventProperty [0x00007FF746ADFE18+119032]\n\tMicrosoft::Applications::Events::EventProperty::EventProperty [0x00007FF746ACD4D6+42934]\n\tMicrosoft::Applications::Events::EventProperty::EventProperty [0x00007FF746AD06EC+55756]\n\t(No symbol) [0x00007FF746947923]\n\tMicrosoft::Applications::Events::EventProperty::EventProperty [0x00007FF746B9844A+874282]\n\tMicrosoft::Applications::Events::EventProperty::EventProperty [0x00007FF746B9D544+895012]\n\tMicrosoft::Applications::Events::EventProperty::EventProperty [0x00007FF746B9D69C+895356]\n\tMicrosoft::Applications::Events::EventProperty::EventProperty [0x00007FF746BA67BE+932510]\n\tBaseThreadInitThunk [0x00007FFDB3D655A0+16]\n\tRtlUserThreadStart [0x00007FFDB5DC485B+43]\n",
     "output_type": "error",
     "traceback": [
      "\u001b[1;31m---------------------------------------------------------------------------\u001b[0m",
      "\u001b[1;31mNoSuchWindowException\u001b[0m                     Traceback (most recent call last)",
      "\u001b[1;32m~\\AppData\\Local\\Temp/ipykernel_19028/2729102861.py\u001b[0m in \u001b[0;36m<module>\u001b[1;34m\u001b[0m\n\u001b[0;32m      4\u001b[0m     \u001b[0mdriver\u001b[0m\u001b[1;33m.\u001b[0m\u001b[0mexecute_script\u001b[0m\u001b[1;33m(\u001b[0m\u001b[1;34m'window.scrollTo(0,arguments[0]);'\u001b[0m\u001b[1;33m,\u001b[0m\u001b[0mcurrent_hight\u001b[0m\u001b[1;33m)\u001b[0m\u001b[1;33m\u001b[0m\u001b[1;33m\u001b[0m\u001b[0m\n\u001b[0;32m      5\u001b[0m     \u001b[0mtime\u001b[0m\u001b[1;33m.\u001b[0m\u001b[0msleep\u001b[0m\u001b[1;33m(\u001b[0m\u001b[1;36m3\u001b[0m\u001b[1;33m)\u001b[0m\u001b[1;33m\u001b[0m\u001b[1;33m\u001b[0m\u001b[0m\n\u001b[1;32m----> 6\u001b[1;33m     \u001b[0mnew_hight\u001b[0m\u001b[1;33m=\u001b[0m\u001b[0mdriver\u001b[0m\u001b[1;33m.\u001b[0m\u001b[0mexecute_script\u001b[0m\u001b[1;33m(\u001b[0m\u001b[1;34m'return document.body.scrollHeight;'\u001b[0m\u001b[1;33m)\u001b[0m\u001b[1;33m\u001b[0m\u001b[1;33m\u001b[0m\u001b[0m\n\u001b[0m\u001b[0;32m      7\u001b[0m     \u001b[1;32mif\u001b[0m \u001b[0mnew_hight\u001b[0m\u001b[1;33m==\u001b[0m\u001b[0mcurrent_hight\u001b[0m\u001b[1;33m:\u001b[0m\u001b[1;33m\u001b[0m\u001b[1;33m\u001b[0m\u001b[0m\n\u001b[0;32m      8\u001b[0m         \u001b[1;32mbreak\u001b[0m\u001b[1;33m\u001b[0m\u001b[1;33m\u001b[0m\u001b[0m\n",
      "\u001b[1;32mD:\\anaconda3\\lib\\site-packages\\selenium\\webdriver\\remote\\webdriver.py\u001b[0m in \u001b[0;36mexecute_script\u001b[1;34m(self, script, *args)\u001b[0m\n\u001b[0;32m    504\u001b[0m         \u001b[0mcommand\u001b[0m \u001b[1;33m=\u001b[0m \u001b[0mCommand\u001b[0m\u001b[1;33m.\u001b[0m\u001b[0mW3C_EXECUTE_SCRIPT\u001b[0m\u001b[1;33m\u001b[0m\u001b[1;33m\u001b[0m\u001b[0m\n\u001b[0;32m    505\u001b[0m \u001b[1;33m\u001b[0m\u001b[0m\n\u001b[1;32m--> 506\u001b[1;33m         \u001b[1;32mreturn\u001b[0m \u001b[0mself\u001b[0m\u001b[1;33m.\u001b[0m\u001b[0mexecute\u001b[0m\u001b[1;33m(\u001b[0m\u001b[0mcommand\u001b[0m\u001b[1;33m,\u001b[0m \u001b[1;33m{\u001b[0m\u001b[1;34m\"script\"\u001b[0m\u001b[1;33m:\u001b[0m \u001b[0mscript\u001b[0m\u001b[1;33m,\u001b[0m \u001b[1;34m\"args\"\u001b[0m\u001b[1;33m:\u001b[0m \u001b[0mconverted_args\u001b[0m\u001b[1;33m}\u001b[0m\u001b[1;33m)\u001b[0m\u001b[1;33m[\u001b[0m\u001b[1;34m\"value\"\u001b[0m\u001b[1;33m]\u001b[0m\u001b[1;33m\u001b[0m\u001b[1;33m\u001b[0m\u001b[0m\n\u001b[0m\u001b[0;32m    507\u001b[0m \u001b[1;33m\u001b[0m\u001b[0m\n\u001b[0;32m    508\u001b[0m     \u001b[1;32mdef\u001b[0m \u001b[0mexecute_async_script\u001b[0m\u001b[1;33m(\u001b[0m\u001b[0mself\u001b[0m\u001b[1;33m,\u001b[0m \u001b[0mscript\u001b[0m\u001b[1;33m:\u001b[0m \u001b[0mstr\u001b[0m\u001b[1;33m,\u001b[0m \u001b[1;33m*\u001b[0m\u001b[0margs\u001b[0m\u001b[1;33m)\u001b[0m\u001b[1;33m:\u001b[0m\u001b[1;33m\u001b[0m\u001b[1;33m\u001b[0m\u001b[0m\n",
      "\u001b[1;32mD:\\anaconda3\\lib\\site-packages\\selenium\\webdriver\\remote\\webdriver.py\u001b[0m in \u001b[0;36mexecute\u001b[1;34m(self, driver_command, params)\u001b[0m\n\u001b[0;32m    442\u001b[0m         \u001b[0mresponse\u001b[0m \u001b[1;33m=\u001b[0m \u001b[0mself\u001b[0m\u001b[1;33m.\u001b[0m\u001b[0mcommand_executor\u001b[0m\u001b[1;33m.\u001b[0m\u001b[0mexecute\u001b[0m\u001b[1;33m(\u001b[0m\u001b[0mdriver_command\u001b[0m\u001b[1;33m,\u001b[0m \u001b[0mparams\u001b[0m\u001b[1;33m)\u001b[0m\u001b[1;33m\u001b[0m\u001b[1;33m\u001b[0m\u001b[0m\n\u001b[0;32m    443\u001b[0m         \u001b[1;32mif\u001b[0m \u001b[0mresponse\u001b[0m\u001b[1;33m:\u001b[0m\u001b[1;33m\u001b[0m\u001b[1;33m\u001b[0m\u001b[0m\n\u001b[1;32m--> 444\u001b[1;33m             \u001b[0mself\u001b[0m\u001b[1;33m.\u001b[0m\u001b[0merror_handler\u001b[0m\u001b[1;33m.\u001b[0m\u001b[0mcheck_response\u001b[0m\u001b[1;33m(\u001b[0m\u001b[0mresponse\u001b[0m\u001b[1;33m)\u001b[0m\u001b[1;33m\u001b[0m\u001b[1;33m\u001b[0m\u001b[0m\n\u001b[0m\u001b[0;32m    445\u001b[0m             \u001b[0mresponse\u001b[0m\u001b[1;33m[\u001b[0m\u001b[1;34m\"value\"\u001b[0m\u001b[1;33m]\u001b[0m \u001b[1;33m=\u001b[0m \u001b[0mself\u001b[0m\u001b[1;33m.\u001b[0m\u001b[0m_unwrap_value\u001b[0m\u001b[1;33m(\u001b[0m\u001b[0mresponse\u001b[0m\u001b[1;33m.\u001b[0m\u001b[0mget\u001b[0m\u001b[1;33m(\u001b[0m\u001b[1;34m\"value\"\u001b[0m\u001b[1;33m,\u001b[0m \u001b[1;32mNone\u001b[0m\u001b[1;33m)\u001b[0m\u001b[1;33m)\u001b[0m\u001b[1;33m\u001b[0m\u001b[1;33m\u001b[0m\u001b[0m\n\u001b[0;32m    446\u001b[0m             \u001b[1;32mreturn\u001b[0m \u001b[0mresponse\u001b[0m\u001b[1;33m\u001b[0m\u001b[1;33m\u001b[0m\u001b[0m\n",
      "\u001b[1;32mD:\\anaconda3\\lib\\site-packages\\selenium\\webdriver\\remote\\errorhandler.py\u001b[0m in \u001b[0;36mcheck_response\u001b[1;34m(self, response)\u001b[0m\n\u001b[0;32m    247\u001b[0m                 \u001b[0malert_text\u001b[0m \u001b[1;33m=\u001b[0m \u001b[0mvalue\u001b[0m\u001b[1;33m[\u001b[0m\u001b[1;34m\"alert\"\u001b[0m\u001b[1;33m]\u001b[0m\u001b[1;33m.\u001b[0m\u001b[0mget\u001b[0m\u001b[1;33m(\u001b[0m\u001b[1;34m\"text\"\u001b[0m\u001b[1;33m)\u001b[0m\u001b[1;33m\u001b[0m\u001b[1;33m\u001b[0m\u001b[0m\n\u001b[0;32m    248\u001b[0m             \u001b[1;32mraise\u001b[0m \u001b[0mexception_class\u001b[0m\u001b[1;33m(\u001b[0m\u001b[0mmessage\u001b[0m\u001b[1;33m,\u001b[0m \u001b[0mscreen\u001b[0m\u001b[1;33m,\u001b[0m \u001b[0mstacktrace\u001b[0m\u001b[1;33m,\u001b[0m \u001b[0malert_text\u001b[0m\u001b[1;33m)\u001b[0m  \u001b[1;31m# type: ignore[call-arg]  # mypy is not smart enough here\u001b[0m\u001b[1;33m\u001b[0m\u001b[1;33m\u001b[0m\u001b[0m\n\u001b[1;32m--> 249\u001b[1;33m         \u001b[1;32mraise\u001b[0m \u001b[0mexception_class\u001b[0m\u001b[1;33m(\u001b[0m\u001b[0mmessage\u001b[0m\u001b[1;33m,\u001b[0m \u001b[0mscreen\u001b[0m\u001b[1;33m,\u001b[0m \u001b[0mstacktrace\u001b[0m\u001b[1;33m)\u001b[0m\u001b[1;33m\u001b[0m\u001b[1;33m\u001b[0m\u001b[0m\n\u001b[0m",
      "\u001b[1;31mNoSuchWindowException\u001b[0m: Message: no such window: target window already closed\nfrom unknown error: web view not found\n  (Session info: MicrosoftEdge=108.0.1462.54)\nStacktrace:\nBacktrace:\n\tMicrosoft::Applications::Events::EventProperties::SetProperty [0x00007FF746C091D2+14306]\n\tMicrosoft::Applications::Events::EventProperty::EventProperty [0x00007FF746B90992+842866]\n\t(No symbol) [0x00007FF746841D90]\n\t(No symbol) [0x00007FF74681B5F4]\n\t(No symbol) [0x00007FF7468A9729]\n\t(No symbol) [0x00007FF7468BED52]\n\t(No symbol) [0x00007FF7468A5B03]\n\t(No symbol) [0x00007FF7468773B8]\n\t(No symbol) [0x00007FF74687638E]\n\t(No symbol) [0x00007FF746877AE4]\n\tMicrosoft::Applications::Events::EventProperty::EventProperty [0x00007FF746ADFE18+119032]\n\tMicrosoft::Applications::Events::EventProperty::EventProperty [0x00007FF746ACD4D6+42934]\n\tMicrosoft::Applications::Events::EventProperty::EventProperty [0x00007FF746AD06EC+55756]\n\t(No symbol) [0x00007FF746947923]\n\tMicrosoft::Applications::Events::EventProperty::EventProperty [0x00007FF746B9844A+874282]\n\tMicrosoft::Applications::Events::EventProperty::EventProperty [0x00007FF746B9D544+895012]\n\tMicrosoft::Applications::Events::EventProperty::EventProperty [0x00007FF746B9D69C+895356]\n\tMicrosoft::Applications::Events::EventProperty::EventProperty [0x00007FF746BA67BE+932510]\n\tBaseThreadInitThunk [0x00007FFDB3D655A0+16]\n\tRtlUserThreadStart [0x00007FFDB5DC485B+43]\n"
     ]
    }
   ],
   "source": [
    "## scroll till last \n",
    "current_hight=driver.execute_script('return document.body.scrollHeight;')\n",
    "while True:\n",
    "    driver.execute_script('window.scrollTo(0,arguments[0]);',current_hight)\n",
    "    time.sleep(3)\n",
    "    new_hight=driver.execute_script('return document.body.scrollHeight;')\n",
    "    if new_hight==current_hight:\n",
    "        break\n",
    "    current_hight=new_hight"
   ]
  },
  {
   "cell_type": "markdown",
   "id": "e2775890",
   "metadata": {},
   "source": [
    "# How to swich focus? "
   ]
  },
  {
   "cell_type": "markdown",
   "id": "654c3b55",
   "metadata": {},
   "source": [
    "Many times, when we go to a new website in the new tab, the focus is not swichted to the new tab. So to swicth the focus, we need to do following"
   ]
  },
  {
   "cell_type": "code",
   "execution_count": 29,
   "id": "6e377c45",
   "metadata": {},
   "outputs": [],
   "source": [
    "driver = webdriver.Edge()\n",
    "driver.get('https://twitter.com/search?q=vizag&ref_src=twsrc%5Egoogle%7Ctwcamp%5Eserp%7Ctwgr%5Esearch')"
   ]
  },
  {
   "cell_type": "code",
   "execution_count": 31,
   "id": "6b367530",
   "metadata": {},
   "outputs": [],
   "source": [
    "driver.execute_script('window.open(\"https://amrc.ap.gov.in/\");')"
   ]
  },
  {
   "cell_type": "code",
   "execution_count": 34,
   "id": "71673f6b",
   "metadata": {},
   "outputs": [
    {
     "data": {
      "text/plain": [
       "'vizag - Twitter Search / Twitter'"
      ]
     },
     "execution_count": 34,
     "metadata": {},
     "output_type": "execute_result"
    }
   ],
   "source": [
    "driver.title  ## as we can see, the focus is still on the previous page."
   ]
  },
  {
   "cell_type": "code",
   "execution_count": 37,
   "id": "e4a555a3",
   "metadata": {},
   "outputs": [
    {
     "data": {
      "text/plain": [
       "['CDwindow-4B4712D582101A6D2672FC4DC03A518D',\n",
       " 'CDwindow-E257132707CCC99460939841171C82EA']"
      ]
     },
     "execution_count": 37,
     "metadata": {},
     "output_type": "execute_result"
    }
   ],
   "source": [
    "tabs=driver.window_handles\n",
    "tabs"
   ]
  },
  {
   "cell_type": "code",
   "execution_count": 38,
   "id": "11174075",
   "metadata": {},
   "outputs": [
    {
     "data": {
      "text/plain": [
       "'CDwindow-4B4712D582101A6D2672FC4DC03A518D'"
      ]
     },
     "execution_count": 38,
     "metadata": {},
     "output_type": "execute_result"
    }
   ],
   "source": [
    "driver.current_window_handle"
   ]
  },
  {
   "cell_type": "code",
   "execution_count": 39,
   "id": "8f89c207",
   "metadata": {},
   "outputs": [],
   "source": [
    "driver.switch_to.window(tabs[1])"
   ]
  },
  {
   "cell_type": "code",
   "execution_count": 40,
   "id": "6c1792e9",
   "metadata": {},
   "outputs": [
    {
     "data": {
      "text/plain": [
       "'Andhra Pradesh Metro Rail Corporation Limited.'"
      ]
     },
     "execution_count": 40,
     "metadata": {},
     "output_type": "execute_result"
    }
   ],
   "source": [
    "driver.title"
   ]
  },
  {
   "cell_type": "code",
   "execution_count": 62,
   "id": "c8511eef",
   "metadata": {},
   "outputs": [],
   "source": [
    "from selenium import webdriver\n",
    "from selenium.webdriver.common.by import By\n",
    "from selenium.webdriver.support.ui import WebDriverWait\n",
    "from selenium.webdriver.support import expected_conditions as EC\n",
    "import requests\n",
    "from bs4 import BeautifulSoup"
   ]
  },
  {
   "cell_type": "code",
   "execution_count": 42,
   "id": "c736a2d5",
   "metadata": {},
   "outputs": [],
   "source": [
    "driver = webdriver.Edge()\n",
    "driver.get('https://www.instagram.com/')"
   ]
  },
  {
   "cell_type": "code",
   "execution_count": 43,
   "id": "2f45f3a8",
   "metadata": {},
   "outputs": [],
   "source": [
    "user_name=driver.find_element(By.XPATH,\"//input[@name='username']\")\n",
    "user_name.send_keys('adpranav05@gmail.com')"
   ]
  },
  {
   "cell_type": "code",
   "execution_count": 44,
   "id": "ea248adf",
   "metadata": {},
   "outputs": [],
   "source": [
    "password=driver.find_element(By.XPATH,\"//input[@name='password']\")\n",
    "password.send_keys('linkexp18517')\n",
    "password.submit()"
   ]
  },
  {
   "cell_type": "code",
   "execution_count": 60,
   "id": "499b2a00",
   "metadata": {},
   "outputs": [],
   "source": [
    "search_box=driver.find_element(By.XPATH,\"//div[@class='_aacl _aacp _aacu _aacx _aada']\")\n",
    "search_box.click()"
   ]
  },
  {
   "cell_type": "code",
   "execution_count": 61,
   "id": "0c3aa3dd",
   "metadata": {},
   "outputs": [],
   "source": [
    "driver.find_element(By.XPATH,\"//input[@class='_aauy']\").send_keys('food')"
   ]
  },
  {
   "cell_type": "code",
   "execution_count": 70,
   "id": "9bd72066",
   "metadata": {},
   "outputs": [
    {
     "ename": "NoSuchWindowException",
     "evalue": "Message: no such window: target window already closed\nfrom unknown error: web view not found\n  (Session info: MicrosoftEdge=108.0.1462.54)\nStacktrace:\nBacktrace:\n\tMicrosoft::Applications::Events::EventProperties::SetProperty [0x00007FF746C091D2+14306]\n\tMicrosoft::Applications::Events::EventProperty::EventProperty [0x00007FF746B90992+842866]\n\t(No symbol) [0x00007FF746841D90]\n\t(No symbol) [0x00007FF74681B5F4]\n\t(No symbol) [0x00007FF7468A9729]\n\t(No symbol) [0x00007FF7468BED52]\n\t(No symbol) [0x00007FF7468A5B03]\n\t(No symbol) [0x00007FF7468773B8]\n\t(No symbol) [0x00007FF74687638E]\n\t(No symbol) [0x00007FF746877AE4]\n\tMicrosoft::Applications::Events::EventProperty::EventProperty [0x00007FF746ADFE18+119032]\n\tMicrosoft::Applications::Events::EventProperty::EventProperty [0x00007FF746ACD4D6+42934]\n\tMicrosoft::Applications::Events::EventProperty::EventProperty [0x00007FF746AD06EC+55756]\n\t(No symbol) [0x00007FF746947923]\n\tMicrosoft::Applications::Events::EventProperty::EventProperty [0x00007FF746B9844A+874282]\n\tMicrosoft::Applications::Events::EventProperty::EventProperty [0x00007FF746B9D544+895012]\n\tMicrosoft::Applications::Events::EventProperty::EventProperty [0x00007FF746B9D69C+895356]\n\tMicrosoft::Applications::Events::EventProperty::EventProperty [0x00007FF746BA67BE+932510]\n\tBaseThreadInitThunk [0x00007FFDB3D655A0+16]\n\tRtlUserThreadStart [0x00007FFDB5DC485B+43]\n",
     "output_type": "error",
     "traceback": [
      "\u001b[1;31m---------------------------------------------------------------------------\u001b[0m",
      "\u001b[1;31mNoSuchWindowException\u001b[0m                     Traceback (most recent call last)",
      "\u001b[1;32m~\\AppData\\Local\\Temp/ipykernel_19028/3441163672.py\u001b[0m in \u001b[0;36m<module>\u001b[1;34m\u001b[0m\n\u001b[1;32m----> 1\u001b[1;33m \u001b[0melement\u001b[0m\u001b[1;33m=\u001b[0m\u001b[0mdriver\u001b[0m\u001b[1;33m.\u001b[0m\u001b[0mfind_element\u001b[0m\u001b[1;33m(\u001b[0m\u001b[0mBy\u001b[0m\u001b[1;33m.\u001b[0m\u001b[0mXPATH\u001b[0m\u001b[1;33m,\u001b[0m\u001b[1;34m\"//div[@class='_aacl _aaco _aacw _aacx _aad6']/div\"\u001b[0m\u001b[1;33m)\u001b[0m\u001b[1;33m\u001b[0m\u001b[1;33m\u001b[0m\u001b[0m\n\u001b[0m",
      "\u001b[1;32mD:\\anaconda3\\lib\\site-packages\\selenium\\webdriver\\remote\\webdriver.py\u001b[0m in \u001b[0;36mfind_element\u001b[1;34m(self, by, value)\u001b[0m\n\u001b[0;32m    859\u001b[0m             \u001b[0mvalue\u001b[0m \u001b[1;33m=\u001b[0m \u001b[1;34m'[name=\"%s\"]'\u001b[0m \u001b[1;33m%\u001b[0m \u001b[0mvalue\u001b[0m\u001b[1;33m\u001b[0m\u001b[1;33m\u001b[0m\u001b[0m\n\u001b[0;32m    860\u001b[0m \u001b[1;33m\u001b[0m\u001b[0m\n\u001b[1;32m--> 861\u001b[1;33m         \u001b[1;32mreturn\u001b[0m \u001b[0mself\u001b[0m\u001b[1;33m.\u001b[0m\u001b[0mexecute\u001b[0m\u001b[1;33m(\u001b[0m\u001b[0mCommand\u001b[0m\u001b[1;33m.\u001b[0m\u001b[0mFIND_ELEMENT\u001b[0m\u001b[1;33m,\u001b[0m \u001b[1;33m{\u001b[0m\u001b[1;34m\"using\"\u001b[0m\u001b[1;33m:\u001b[0m \u001b[0mby\u001b[0m\u001b[1;33m,\u001b[0m \u001b[1;34m\"value\"\u001b[0m\u001b[1;33m:\u001b[0m \u001b[0mvalue\u001b[0m\u001b[1;33m}\u001b[0m\u001b[1;33m)\u001b[0m\u001b[1;33m[\u001b[0m\u001b[1;34m\"value\"\u001b[0m\u001b[1;33m]\u001b[0m\u001b[1;33m\u001b[0m\u001b[1;33m\u001b[0m\u001b[0m\n\u001b[0m\u001b[0;32m    862\u001b[0m \u001b[1;33m\u001b[0m\u001b[0m\n\u001b[0;32m    863\u001b[0m     \u001b[1;32mdef\u001b[0m \u001b[0mfind_elements\u001b[0m\u001b[1;33m(\u001b[0m\u001b[0mself\u001b[0m\u001b[1;33m,\u001b[0m \u001b[0mby\u001b[0m\u001b[1;33m=\u001b[0m\u001b[0mBy\u001b[0m\u001b[1;33m.\u001b[0m\u001b[0mID\u001b[0m\u001b[1;33m,\u001b[0m \u001b[0mvalue\u001b[0m\u001b[1;33m:\u001b[0m \u001b[0mOptional\u001b[0m\u001b[1;33m[\u001b[0m\u001b[0mstr\u001b[0m\u001b[1;33m]\u001b[0m \u001b[1;33m=\u001b[0m \u001b[1;32mNone\u001b[0m\u001b[1;33m)\u001b[0m \u001b[1;33m->\u001b[0m \u001b[0mList\u001b[0m\u001b[1;33m[\u001b[0m\u001b[0mWebElement\u001b[0m\u001b[1;33m]\u001b[0m\u001b[1;33m:\u001b[0m\u001b[1;33m\u001b[0m\u001b[1;33m\u001b[0m\u001b[0m\n",
      "\u001b[1;32mD:\\anaconda3\\lib\\site-packages\\selenium\\webdriver\\remote\\webdriver.py\u001b[0m in \u001b[0;36mexecute\u001b[1;34m(self, driver_command, params)\u001b[0m\n\u001b[0;32m    442\u001b[0m         \u001b[0mresponse\u001b[0m \u001b[1;33m=\u001b[0m \u001b[0mself\u001b[0m\u001b[1;33m.\u001b[0m\u001b[0mcommand_executor\u001b[0m\u001b[1;33m.\u001b[0m\u001b[0mexecute\u001b[0m\u001b[1;33m(\u001b[0m\u001b[0mdriver_command\u001b[0m\u001b[1;33m,\u001b[0m \u001b[0mparams\u001b[0m\u001b[1;33m)\u001b[0m\u001b[1;33m\u001b[0m\u001b[1;33m\u001b[0m\u001b[0m\n\u001b[0;32m    443\u001b[0m         \u001b[1;32mif\u001b[0m \u001b[0mresponse\u001b[0m\u001b[1;33m:\u001b[0m\u001b[1;33m\u001b[0m\u001b[1;33m\u001b[0m\u001b[0m\n\u001b[1;32m--> 444\u001b[1;33m             \u001b[0mself\u001b[0m\u001b[1;33m.\u001b[0m\u001b[0merror_handler\u001b[0m\u001b[1;33m.\u001b[0m\u001b[0mcheck_response\u001b[0m\u001b[1;33m(\u001b[0m\u001b[0mresponse\u001b[0m\u001b[1;33m)\u001b[0m\u001b[1;33m\u001b[0m\u001b[1;33m\u001b[0m\u001b[0m\n\u001b[0m\u001b[0;32m    445\u001b[0m             \u001b[0mresponse\u001b[0m\u001b[1;33m[\u001b[0m\u001b[1;34m\"value\"\u001b[0m\u001b[1;33m]\u001b[0m \u001b[1;33m=\u001b[0m \u001b[0mself\u001b[0m\u001b[1;33m.\u001b[0m\u001b[0m_unwrap_value\u001b[0m\u001b[1;33m(\u001b[0m\u001b[0mresponse\u001b[0m\u001b[1;33m.\u001b[0m\u001b[0mget\u001b[0m\u001b[1;33m(\u001b[0m\u001b[1;34m\"value\"\u001b[0m\u001b[1;33m,\u001b[0m \u001b[1;32mNone\u001b[0m\u001b[1;33m)\u001b[0m\u001b[1;33m)\u001b[0m\u001b[1;33m\u001b[0m\u001b[1;33m\u001b[0m\u001b[0m\n\u001b[0;32m    446\u001b[0m             \u001b[1;32mreturn\u001b[0m \u001b[0mresponse\u001b[0m\u001b[1;33m\u001b[0m\u001b[1;33m\u001b[0m\u001b[0m\n",
      "\u001b[1;32mD:\\anaconda3\\lib\\site-packages\\selenium\\webdriver\\remote\\errorhandler.py\u001b[0m in \u001b[0;36mcheck_response\u001b[1;34m(self, response)\u001b[0m\n\u001b[0;32m    247\u001b[0m                 \u001b[0malert_text\u001b[0m \u001b[1;33m=\u001b[0m \u001b[0mvalue\u001b[0m\u001b[1;33m[\u001b[0m\u001b[1;34m\"alert\"\u001b[0m\u001b[1;33m]\u001b[0m\u001b[1;33m.\u001b[0m\u001b[0mget\u001b[0m\u001b[1;33m(\u001b[0m\u001b[1;34m\"text\"\u001b[0m\u001b[1;33m)\u001b[0m\u001b[1;33m\u001b[0m\u001b[1;33m\u001b[0m\u001b[0m\n\u001b[0;32m    248\u001b[0m             \u001b[1;32mraise\u001b[0m \u001b[0mexception_class\u001b[0m\u001b[1;33m(\u001b[0m\u001b[0mmessage\u001b[0m\u001b[1;33m,\u001b[0m \u001b[0mscreen\u001b[0m\u001b[1;33m,\u001b[0m \u001b[0mstacktrace\u001b[0m\u001b[1;33m,\u001b[0m \u001b[0malert_text\u001b[0m\u001b[1;33m)\u001b[0m  \u001b[1;31m# type: ignore[call-arg]  # mypy is not smart enough here\u001b[0m\u001b[1;33m\u001b[0m\u001b[1;33m\u001b[0m\u001b[0m\n\u001b[1;32m--> 249\u001b[1;33m         \u001b[1;32mraise\u001b[0m \u001b[0mexception_class\u001b[0m\u001b[1;33m(\u001b[0m\u001b[0mmessage\u001b[0m\u001b[1;33m,\u001b[0m \u001b[0mscreen\u001b[0m\u001b[1;33m,\u001b[0m \u001b[0mstacktrace\u001b[0m\u001b[1;33m)\u001b[0m\u001b[1;33m\u001b[0m\u001b[1;33m\u001b[0m\u001b[0m\n\u001b[0m",
      "\u001b[1;31mNoSuchWindowException\u001b[0m: Message: no such window: target window already closed\nfrom unknown error: web view not found\n  (Session info: MicrosoftEdge=108.0.1462.54)\nStacktrace:\nBacktrace:\n\tMicrosoft::Applications::Events::EventProperties::SetProperty [0x00007FF746C091D2+14306]\n\tMicrosoft::Applications::Events::EventProperty::EventProperty [0x00007FF746B90992+842866]\n\t(No symbol) [0x00007FF746841D90]\n\t(No symbol) [0x00007FF74681B5F4]\n\t(No symbol) [0x00007FF7468A9729]\n\t(No symbol) [0x00007FF7468BED52]\n\t(No symbol) [0x00007FF7468A5B03]\n\t(No symbol) [0x00007FF7468773B8]\n\t(No symbol) [0x00007FF74687638E]\n\t(No symbol) [0x00007FF746877AE4]\n\tMicrosoft::Applications::Events::EventProperty::EventProperty [0x00007FF746ADFE18+119032]\n\tMicrosoft::Applications::Events::EventProperty::EventProperty [0x00007FF746ACD4D6+42934]\n\tMicrosoft::Applications::Events::EventProperty::EventProperty [0x00007FF746AD06EC+55756]\n\t(No symbol) [0x00007FF746947923]\n\tMicrosoft::Applications::Events::EventProperty::EventProperty [0x00007FF746B9844A+874282]\n\tMicrosoft::Applications::Events::EventProperty::EventProperty [0x00007FF746B9D544+895012]\n\tMicrosoft::Applications::Events::EventProperty::EventProperty [0x00007FF746B9D69C+895356]\n\tMicrosoft::Applications::Events::EventProperty::EventProperty [0x00007FF746BA67BE+932510]\n\tBaseThreadInitThunk [0x00007FFDB3D655A0+16]\n\tRtlUserThreadStart [0x00007FFDB5DC485B+43]\n"
     ]
    }
   ],
   "source": []
  },
  {
   "cell_type": "code",
   "execution_count": null,
   "id": "e484903f",
   "metadata": {},
   "outputs": [],
   "source": []
  },
  {
   "cell_type": "code",
   "execution_count": null,
   "id": "c3bcd16c",
   "metadata": {},
   "outputs": [],
   "source": []
  }
 ],
 "metadata": {
  "kernelspec": {
   "display_name": "Python 3 (ipykernel)",
   "language": "python",
   "name": "python3"
  },
  "language_info": {
   "codemirror_mode": {
    "name": "ipython",
    "version": 3
   },
   "file_extension": ".py",
   "mimetype": "text/x-python",
   "name": "python",
   "nbconvert_exporter": "python",
   "pygments_lexer": "ipython3",
   "version": "3.11.2"
  }
 },
 "nbformat": 4,
 "nbformat_minor": 5
}
