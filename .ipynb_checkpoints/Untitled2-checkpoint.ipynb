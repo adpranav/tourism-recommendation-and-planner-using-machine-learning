{
 "cells": [
  {
   "cell_type": "code",
   "execution_count": null,
   "id": "5dc8e7a2",
   "metadata": {},
   "outputs": [],
   "source": [
    "import numpy as np\n",
    "from numpy.linalg import norm\n",
    " \n",
    "# define two lists or array\n",
    "A = np.array([0,0,0,4,0,0])\n",
    "B = np.array([1,1,1,3,1,1])\n",
    " \n",
    "print(\"A:\", A)\n",
    "print(\"B:\", B)\n",
    " \n",
    "# compute cosine similarity\n",
    "cosine = np.dot(A,B)/(norm(A)*norm(B))\n",
    "print(cosine)"
   ]
  },
  {
   "cell_type": "code",
   "execution_count": null,
   "id": "50a8e322",
   "metadata": {},
   "outputs": [],
   "source": [
    "import pandas as pd"
   ]
  },
  {
   "cell_type": "code",
   "execution_count": null,
   "id": "dbed67c8",
   "metadata": {},
   "outputs": [],
   "source": [
    "from nltk.tokenize import sent_tokenize, word_tokenize"
   ]
  },
  {
   "cell_type": "code",
   "execution_count": null,
   "id": "e8be5a1b",
   "metadata": {},
   "outputs": [],
   "source": [
    "import pandas as pd\n",
    "\n",
    "# Specify the encoding of the CSV file\n",
    "encoding = 'latin-1'  # Replace with the appropriate encoding\n",
    "\n",
    "# Read the CSV file with the specified encoding\n",
    "df = pd.read_csv('cosine.csv', encoding=encoding)\n",
    "\n",
    "# Print the DataFrame to verify the data is imported correctly\n",
    "df\n"
   ]
  },
  {
   "cell_type": "code",
   "execution_count": null,
   "id": "aca47d78",
   "metadata": {},
   "outputs": [],
   "source": [
    "df1=df[df[\"Place\"]==\"Bojjannakonda\"]"
   ]
  },
  {
   "cell_type": "markdown",
   "id": "b479c7e8",
   "metadata": {},
   "source": [
    "# Sentense Fragmentation"
   ]
  },
  {
   "cell_type": "code",
   "execution_count": null,
   "id": "c0eda998",
   "metadata": {},
   "outputs": [],
   "source": [
    "review1=[]                       ## appending all reviews into one array\n",
    "for i in df1[\"Review\"]:\n",
    "    review1.append(i)"
   ]
  },
  {
   "cell_type": "code",
   "execution_count": null,
   "id": "db347e9b",
   "metadata": {},
   "outputs": [],
   "source": [
    "def sentence_tokenize(arr):               ## passing array of paragraphs ( paragraphs in turn contain many sentences)\n",
    "    final=[]\n",
    "    for i in range(len(arr)):\n",
    "        a=sent_tokenize(arr[i])\n",
    "        for j in a:\n",
    "            final.append(j)\n",
    "    return final"
   ]
  },
  {
   "cell_type": "code",
   "execution_count": null,
   "id": "60686c4b",
   "metadata": {},
   "outputs": [],
   "source": [
    "sentences=sentence_tokenize(review1)"
   ]
  },
  {
   "cell_type": "markdown",
   "id": "175f910f",
   "metadata": {},
   "source": [
    "# Word Fragmentation"
   ]
  },
  {
   "cell_type": "code",
   "execution_count": null,
   "id": "987f7aa1",
   "metadata": {},
   "outputs": [],
   "source": [
    "words=word_tokenize(final_re[0])"
   ]
  },
  {
   "cell_type": "code",
   "execution_count": null,
   "id": "739de8a2",
   "metadata": {},
   "outputs": [],
   "source": [
    "words"
   ]
  },
  {
   "cell_type": "code",
   "execution_count": null,
   "id": "4995eb1b",
   "metadata": {},
   "outputs": [],
   "source": [
    "def words_tokenizer(arr):          ## pass arrays of senteces\n",
    "    word_list=[]\n",
    "    for i in range(len(arr)):\n",
    "        words=word_tokenize(arr[i].lower())\n",
    "        for i in words:\n",
    "            word_list.append(i)\n",
    "    return word_list"
   ]
  },
  {
   "cell_type": "code",
   "execution_count": null,
   "id": "b3f8b3ba",
   "metadata": {},
   "outputs": [],
   "source": [
    "words=words_tokenizer(sentences)"
   ]
  },
  {
   "cell_type": "code",
   "execution_count": null,
   "id": "1b9e58f8",
   "metadata": {},
   "outputs": [],
   "source": [
    "len(words)"
   ]
  },
  {
   "cell_type": "markdown",
   "id": "9fe4842d",
   "metadata": {},
   "source": [
    "# Removing Stop Words"
   ]
  },
  {
   "cell_type": "code",
   "execution_count": null,
   "id": "bace524a",
   "metadata": {},
   "outputs": [],
   "source": [
    "from nltk.corpus import stopwords"
   ]
  },
  {
   "cell_type": "code",
   "execution_count": null,
   "id": "d462e24d",
   "metadata": {},
   "outputs": [],
   "source": [
    "stop=stopwords.words(\"english\")"
   ]
  },
  {
   "cell_type": "code",
   "execution_count": null,
   "id": "6341bf5b",
   "metadata": {},
   "outputs": [],
   "source": [
    "cleaned_words=[w for w in words if not w in stop]"
   ]
  },
  {
   "cell_type": "code",
   "execution_count": null,
   "id": "f66ba549",
   "metadata": {},
   "outputs": [],
   "source": [
    "len(cleaned_words)"
   ]
  },
  {
   "cell_type": "code",
   "execution_count": null,
   "id": "b0cf207e",
   "metadata": {},
   "outputs": [],
   "source": [
    "cleaned_words"
   ]
  },
  {
   "cell_type": "markdown",
   "id": "fae04f0c",
   "metadata": {},
   "source": [
    "# Remove unwanted charecters"
   ]
  },
  {
   "cell_type": "code",
   "execution_count": null,
   "id": "fe534339",
   "metadata": {},
   "outputs": [],
   "source": [
    "import re\n",
    "\n",
    "def remove_unwanted_characters(words):\n",
    "    cleaned_words = []\n",
    "    pattern = r\"[^\\w\\s]\"  # Regex pattern to match non-alphanumeric characters\n",
    "\n",
    "    for word in words:\n",
    "        cleaned_word = re.sub(pattern, \"\", word)\n",
    "        if cleaned_word:  # Check if the word is not empty after removing characters\n",
    "            cleaned_words.append(cleaned_word)\n",
    "\n",
    "    return cleaned_words\n"
   ]
  },
  {
   "cell_type": "code",
   "execution_count": null,
   "id": "b0c2de8a",
   "metadata": {},
   "outputs": [],
   "source": [
    "final_cleaned=remove_unwanted_characters(cleaned_words)"
   ]
  },
  {
   "cell_type": "markdown",
   "id": "5e2f75d3",
   "metadata": {},
   "source": [
    "# Stemming"
   ]
  },
  {
   "cell_type": "code",
   "execution_count": 124,
   "id": "9bd46a11",
   "metadata": {},
   "outputs": [],
   "source": [
    "from nltk.stem import PorterStemmer"
   ]
  },
  {
   "cell_type": "code",
   "execution_count": 148,
   "id": "b4569b50",
   "metadata": {},
   "outputs": [],
   "source": [
    "def stemming(words):\n",
    "    ps=PorterStemmer()\n",
    "    stemmed_words=[ps.stem(w) for w in words]\n",
    "    return stemmed_words"
   ]
  },
  {
   "cell_type": "markdown",
   "id": "aeb1c9a5",
   "metadata": {},
   "source": [
    "# Lemmatizing"
   ]
  },
  {
   "cell_type": "code",
   "execution_count": 133,
   "id": "93ca763a",
   "metadata": {},
   "outputs": [],
   "source": [
    "from nltk.stem import WordNetLemmatizer"
   ]
  },
  {
   "cell_type": "code",
   "execution_count": 134,
   "id": "3e2a5eee",
   "metadata": {},
   "outputs": [],
   "source": [
    "lemmatizer=WordNetLemmatizer()"
   ]
  },
  {
   "cell_type": "code",
   "execution_count": 135,
   "id": "669a39e5",
   "metadata": {},
   "outputs": [],
   "source": [
    "def get_simple_pos(tag):\n",
    "    \n",
    "    if tag.startswith(\"J\"):\n",
    "        return wordnet.ADJ\n",
    "    elif tag.tag.startswith(\"V\"):\n",
    "        return wordnet.VERB\n",
    "    elif tag.startswith(\"N\"):\n",
    "        return wordnet.NOUN\n",
    "    elif tag.startswith(\"R\"):\n",
    "        return wordnet.ADV\n",
    "    else:\n",
    "        return wordnet.NOUN"
   ]
  },
  {
   "cell_type": "code",
   "execution_count": 140,
   "id": "edf59779",
   "metadata": {},
   "outputs": [
    {
     "name": "stdout",
     "output_type": "stream",
     "text": [
      "{'excellent', 'running', 'ate', 'better'}\n"
     ]
    }
   ],
   "source": [
    "import nltk\n",
    "from nltk.stem import WordNetLemmatizer\n",
    "\n",
    "def lemmatize_words(word_set):\n",
    "    lemmatizer = WordNetLemmatizer()\n",
    "    lemmatized_words = set()\n",
    "\n",
    "    for word in word_set:\n",
    "        # Lemmatize each word using the WordNetLemmatizer\n",
    "        lemmatized_word = lemmatizer.lemmatize(word)\n",
    "        lemmatized_words.add(lemmatized_word)\n",
    "\n",
    "    return lemmatized_words\n",
    "\n",
    "# Example usage\n",
    "word_set = {'excellent', 'running', 'ate', 'running', 'better'}\n",
    "lemmatized_set = lemmatize_words(word_set)\n",
    "print(lemmatized_set)\n"
   ]
  },
  {
   "cell_type": "code",
   "execution_count": 154,
   "id": "6235c189",
   "metadata": {},
   "outputs": [],
   "source": [
    "from sklearn.feature_extraction.text import CountVectorizer"
   ]
  },
  {
   "cell_type": "code",
   "execution_count": 164,
   "id": "8b90ad54",
   "metadata": {},
   "outputs": [],
   "source": [
    "def join_words(word_array):\n",
    "    word_list = ','.join(word_array).split(',')\n",
    "    return ' '.join(word_list)"
   ]
  },
  {
   "cell_type": "code",
   "execution_count": 165,
   "id": "c43b4ce1",
   "metadata": {},
   "outputs": [],
   "source": [
    "sentence=join_words(final_cleaned)"
   ]
  },
  {
   "cell_type": "code",
   "execution_count": 166,
   "id": "71423417",
   "metadata": {},
   "outputs": [
    {
     "data": {
      "text/plain": [
       "'old buddist temple locate near anakepalli lot ancient buddha statues buddist sthupa made rocks archaeological site consists ruined building made thousands year ago area clean well maintained tickets must taken entering site located sankaram village near anakapalle site consists ruins old rockcut caves two hillocks based buddhism site dated 4th9th century ad place got numerous monolithic rocks stupas chaityas ï½ located sankaram village near anakapalle site consists ruins old rockcut caves two hillocks based buddhism site dated 4th9th century ad place got numerous monolithic rocks stupas chaityas ï½ best place visiting family picnics peaceful environment full greenery historical place lot mysterious stories one important bhudist site andhra pradesh keep lots time experience nt miss last 2 big stupa beautiful buddhist monuments good picnic spot bojjannakonda small group six rockcut caves dates back 4th century ad buddhism flourishing region caves beautifully carved statues gautam buddha draw tourists believers ï½ winding road branching national highway 16 near anakapalle leads twin buddhist sites bojjannakonda lingalakonda built 4th 9th centuries perched adjacent hilltops broken pillars ï½ must place visit vizagites visitors place buddhist monks used meditate wonderful architecture must visit finding peace ancient times hills two hills one bhudha second hill linga 2 hills ï½ entry place well maintained like park cave place completely dirt bushes grown gov need take care historical place need clean area bus service less info provided place ï½ good place car charges high s neither clean well maintained however architecture view caves really make worth trouble would suggest place ideal time would morning s place one would ever thought exists vishakhapatnam must go history lovers beat traveller like rilics gautam buddha mesmerize ppl depth history ï½ s good place children visit s garden play s small mountain anyone easily go back view good crop fields s good place visit view awesome visit either friends family bojjannakonda lingalakonda two buddhist sites exist adjacent hillocks located 45 km vishakhapatnam kilometers anekapalle two hills one east called bojjannakonda ï½ bojjana konda vishakapatnam distance 54 kms one lesser known weekend destination ï½ historical place drinking water washrooms available park nice children enjoy climbing hills good carry food beautiful landscape watching top hills marvelous sculptures n hill carry eateries drinking water available good place good view best evening tym pass around 3040 kms must tourist place opinion ethnic view relaxation peace area gardens nicebut ca nt spend much time scenery s visiting one time worth itthere nothing near refreshments sankaram bojjannakondalingalakonda 4th3rd ceyou capture beautiful landscapes two stored cave buddha statue going top maha chaityaon lingalakonda like thick forest stupas one exciting place visit bojjanna konda lingala konda two buddhist rockcut caves adjacent hillocks situated near anakapalle visakhapatnam district andhra pradesh state archaeology survey india ï½ pleasant place visit many buddhists visit place every sunday nature enthusiasts make frequent visits experience beauty around place near people visit place practice meditation yoga bojjannakonda lingalakonda sankaram village near anakapalli bojjannakonda lingalakonda two buddhist sites exist adjacent ï½ awesome place nearby visakhapatnam amazing cultural nd historical significance wonderful place fr family excursion well maintained awesome place view hill topï½ï½ï½ï½ï½ï½ï½ï½ï½ï good place know history get insight buddhist monks lived centuries back serene place nice place relax festival kanuma much crowd buddhist archaeological site overall surrounding area green full nature peaceful atmosphere heritage good photography enjoy children family exactly dont know much place feel holy place blessong practice buddha followers bhikku yogis interesting know buddhist master 8s connected place ï½ nyce place shop nd drinking water facility 100 meyer ground careful heartpatient s ancient buddhist place looks greenish peace full one place great place visit well maintained lush green heritage site road leading place bad condition travel safe bojjannakonda lingalakonda two buddhism rockcut caves adjacent hillocks situated near village called sankaram anakapalle ancient kalinga indian state andhra pradesh sites believed date 4th ï½ may way id good location superb pleasent location thanks bro bojjanna konda bhudhist heritage centre well developed best suitable site seeing get togethers picnics peacefull pleasant place extremely happy visted place ideal picnic spot well maintained i recommend minimum entry fees heritage site help maintaining pleasant whether historical place places anakapalle spend minimum time like bojjannanna konda beautiful place weekend outingwe go family friends also also go picnics bojjannanna konda also known lingala konda wonderful place well maintained best place visit scenery top worth ï½ï½ï½ï½ï½ï½ï½ï½ï½ï½ calm quiet serenity place hits leaves perplexed anything else spiritual road many men women us starts bojjanakonda monastery tourists good place picnic type arrangements however place nt well maintained hill top view amazing buddha memories like stupas aramas presenttwo hills beautiful see view one hill really superb veary near anakapalli feel s best outing vizag tothlakonda much overrated one must visit bojjanakonda insted rich natural surroundings makes trip perfect small hike meditate renewed picnic spot decent greenery historical place must visit ï½ awesome always start treking 300pm hill bhojjannakonda lingakonda till sunset one feel enjoy nature s scenery splendidly s historical place visit evening light peaceful place meditation calm crowded place near anakapalliu patience explore placeu wo nt even get water anywhere nearby u find shops buybetter go morning 11 escape sunby way way ï½ good place wander around bit secluded lord buddhas temple good nature hill station family tours nearest ankapalli andhrapradesh india wonderful place chill cool breeze amazing sculptures nice place visit family evening times free purified chilled water available near anakapalli junction greenery nice picnic spot old buddha statues sthoopas great place great historic value neglected government good picnic spot wonderful locations views good place visit 30mins much litrature written best place picnic spot child photoshoots nice caves garden also well mentained thankyou important historical place visit nice place good location natur see ancient periods serene atmosphere peace weekend getaways nice place visit children also sanitation goodbut good see buddhist pilgrim placevery near anakapalle archeological site buddha statues bojjannakonda lingalakonda two buddhist rockcut caves adjacent hillocks situated near village called sankaram kilometres away ï½ needs development attract visitors good enthusiasts archeology history nice place kids family couples outdoor parties ancient historical place engulfing buddhist statues stupas nevertheless refreshing must visit place big yes tourists beautiful historical place less public facities place see beautiful site anakapalli one best places visit friends enjoy due greenery nice place rocky good photos ancient buddhist temple hundreds stupa carved rock nature please super entry keep id location historical good visit facilities like drinking water snacks located silent premises better take care going solo two good application best location ï½ï½ï½ï½ï½ï½ï½ï½ï½ï½ï½ï½ï½ï½ï½ï½ï½ï½ï½ awesome climate family tour s mustvisit place family family members thoroughly enjoy place s place spend whole day family aadhaar card number must visit place members aadhaar numbers ï½ good picnic historical place area spoiling public cleaning develop famous location unwanted trees grown main location good view point surroundings visit nice historical place well maintained drinking water available food stall parking issue generally crowded keep supplies washroom available enough place school family picnic enough ï½ buddisht temple nice place photography ï½ average place well maintained nice place views nice buddhist monuments ï½ï½ï wonderful place worth visit see monuments 4th century good place visit buddhist monastery climb strait stare recommend small kids food near outside food allowed id card compulsary small garden mountain nice place visit peaceful beautiful place bojjannakonda lingalakonda two buddhist rockcut caves adjacent hillocks situated near village called sankaram kilometres away anakapalle vishakhapatnam indian state andhra pradesh sites ï½ great heritage site get glance rich history cultural importance though maintained govt still lot care needs taken site needs maintained properlycalm crowded place near anakapalliu ï½ good place explore nice beautiful place ï½ï½ï½ï½ï½ï½ï½ï½ï½ï½ï½ï½ï½ï½ï½ï½ï½ï½ï½ï½ï½ï½ï½ï½ï½ï½ï½ï½ï½ï½ï½ï½ï½ï½ï½ï½ï½ï½ï½ï½ï½ï½ï½ï½ï½ï½ï½ï½ï½ï½ï½ï½ï½ï½ï½ï½ï½ï½ï½ï½ï½ï½ï½ï½ï½ï½ï½ï½ï½ï½ï½ï½ï½ï½ nice location development works process nice hills relics walking good views see area bus main road junction 15 minute walk buddhist caves ï½ good tourist attraction place good trekking kinda things would give better view crop fields around go top rock great view surroundings also good photographers things would say become much better last year people checking whether aadhaar card historical places take social responsibility keep place void plastic clean visit even better s nice peace full beautiful place peace mind nice nice place communication poor food items allowed side park car parking available one important historical site andhrapradesh heritage site spot trekking lovers place good person gate good expecting money going place take permission government otherwise waste time gate also mis behave mr harihar beautiful place tourist guides available yet place worth visiting takes two three hours hill want trek take pics takes three hours single hill good maintenance hills farm lands behind hills beautiful considered photo shoot short films buddhist caves stupa good yet impose protection need share identity details ever visit best buddhist ï½ï½ï½ï½ï½ï½ï½ï½ï½ï½ï½ï nice adventurous perfect place spectacular viewsï½ï½ï½ï½ great archrilogical place visit like trekking place suitable persons highly recommended senior citizens bojjannakonda lingalakonda two buddhist rockcut caves adjacent hillocks kilometres away ï½ worst experience pet dog n pack street dogs tried attack reason alli acknowledged later pack killed older dalmatian weeks ago pathetic ï½ bad experience gate name harihar prasad miss behave allowed also expecting money entry request government investigate improve service great heritage site get glance rich history cultural importance though maintained govt still lot care needs taken site needs maintained properly nice isolated buddist site fun climb small hillocks laced buddist relics small garden first relaxing spending time friends family members nice place short one day fun good site explore big nice place picnic sightseeingmain problem place far city government nt took necessary steps attract touristsnot many people know ï½ one best tracking place highest buddhist spot andhra pradesh local tourists placegovt take special care maintenance benefit attract tourist create shopping complexrope way bojjanna konda picnic spot day vacation family friends good place visit wit read ï½ proper maintenance stupas unmannered youth drawing unwanted things ancient monuments damaging decorum place severe action must taken way open good place observe ancient style construction interesting watch historical place good sankranti festival third day huge crowd would seen remember childhood theertam gathering days place needs maintain good historical monuments importantly reach ï½ nice peaceful place main road attraction great buddhist temple still prayers offered slight climb visit may suitable elderly beautiful views farms crop fields topactually two kinds one bojjana kinda otherone lingala konda located one place 100 metres apart buddhist rock cut caves hillocks daily s open 800 600 pm s plastic free zone ideal picnics photoshoots 4 km anakapalle bus station 3 km anakapalle railway station nice buddhist tourist attraction place related ancient era caves found place related lord budha nice place weekend rainy season s beautiful nature one oldest buddhist possibly monasteries visited india reminds centuries old thai buddhist temples ayutthaya thailand hope government restores old monuments secures ï½ nice historical place s ancient buddhist temple national heritage site number buddhist stupas ll designed curved rocks really awesome one great tourist places visakhapatnam heritage site filled buddhist stupas caves monks used meditate ï½ complete rockcut chaityas found hilltop monolithic stupas apart one also visit bavikonda thotlakonda buddhist complexs ï½ super place visit time went expeditionary trip learnt much historical site climbing top bojjannakonda best climate really pleasant great time enjoying nice place historical site early period buddhist historical site hour drive vizag near anakapalle village called sankaram could come sangharam sangharam means buddhist monastery ï½ awesome place hiking climbing rock structures enjoy scenic view get peace calmness fun visiting caves really great see heritage buddhism nice place visit place near anakapalle around 40 kms vizag rock cut cave statue buddha carved hill beside contains various stupas monks used dhyana yearly festival celebrated also famous picnic spot karthika month excellent spot photo shoot wonderful place love explore historical monuments buses frequently available visakhapatnam dwaraka bus stand also come train anakapalli take auto rickshaw anakapalli railway stationbus stand ï½ another less visited hidden gem near vizagroad goodscuplted hill top seen farvery drivers packaged tours agree take but s really unbelievable spot buddhist sculpted cave near vizag ï½ place near anakapalle around 40 kms vizag rock cut cave statue buddha carved hill beside contains various stupas monks used dhyana yearly festival celebrated also ï½ old devotional cave bojjannakonda hill located anakapalli visakhapatnam covered large group monolithic stupas surrounding rockcut platforms maha stupa ï½ sankaram village bojjanna konda near anakapalle one popular buddhist heritage spot surrounding visakhapatnam centuries back place center buddhist culture teachings name village sankaram ï½ old buddhist settlement less tourist amenities available could tiring trip unless visit planned early morning sun hot good view best place photo shoot buddhist establishments close anakapalle visit evening pleasant experience place bit isolated main road make sure u carry snacks remote location historical buddhist place nice environment around lot grass fields good place casual vacation picnic spot lot buddhist idols sthupas visited archeological studies done current locality place visit amazing historical place related gautam buddha revealing great indian history number stupas situated small hill many statues engraved stones gautam buddha nice atmosphere pleasant climate nature meets heritage excellent place pleaceful picturesque location nice place hang friends family kids good picnic spot large garden area neatly maintained visit evening summers small ancient stupa ll find lord buddha s statues small hill much tourist attraction would say far city shops restaurants nearby visited sight seeing good one hiking meditation one buddhist sites india two hills adjacent called bojjanna konda one lingala konda ï½ looks fresh clean atmosphere one best tourist place visakhapatnam recall buddhist status relax thier pleasant environment well find piece mind away busy life beautiful archaeological wonder situated close vishakhapatnam one half hours journey city one spend hour place really enjoyed awesome place 3 hours pages history great place carelessly managed asi asi asi ï½ feel good place peaceful nice view hills nice picnic spot friends families great historical place build second century ad oldest monument visakhapatnam one great buddhist stupam india lesser known place near vizak mainly locals visit one visit see remains buddhist structure please carry food water nothing available bojjannakonda lingalakonda two buddhist rockcut caves adjacent hillocks situated near village called sankaram kilometres away anakapalle vishakhapatnam indian state andhra pradesh sites ï½ lovely friends brothers ï½ï½ sankaram small village situated mile east anakapalli visakhapatnam district andhra pradesh short distance north village two hills one east called bojjannakonda ï½ tourists place lord buddha ï½ greenery always gives us peace mind budha sculptures gives wonder feel enjoy s sure ancient historical place must suggest visiting place wonderful place visit entire family particularly children enjoy lot buddists constructed plenty stupas 600 years ago picnic spot old stctures nice beautiful garden alsobut drinking water available prepare plan nice place place situated hill see bhudha stupa linga hills also see uncompleted stacturs bhudh stupa picnic spot near anakapalli best scenic beauty top hills landscape well maintained garden peacful place site belongs 1st century a d hinayana mahayana buddhism flourished non availability tourist guide historicity site unknown visitors villagers used throw stones stomachshaped figure bojjankonda demon part ancient practice however intervention indian national trust art cultural ï½ great calm isolated place two hillocks many stupas carved hillocks offer beautiful views surrounding farms villages nice beautiful nature prepare picnic like get together partys beautiful location anakapalle near place bojjanna konda know place childhood lot improved since place calm serenebest place relax enjoy nature historical touch bojjannakonda lingalakonda two buddhist rockcut caves adjacent hillocks situated near village called sankaram kilometres away anakapalli visakhapatnam indian state ap sites believed ï½ timings 9am 5pm food allowed lovers allowed way quiet tons small birds animals around kept getting surprised stupas wonderful extremely short trek good allowing go near exhibit allowed view hill good buddhist site many monolithic bhotiv stupa rock cut monolithic caves maha stupa chaitya vihara also interesting place old temple many hundreds years ago bhudhist monks used liveexcllent view rocks surrounded picturesque natural beauty one best places green peace serinity easily spend day view atmosphere good place hang friends family always carry extra water bottle little food overall enjoyed ï½ï½ï½ï½ historical place needs maintenance view around good maintain heritage please great glimpse rich history approach road n overall maitenance improve save future generation interesting place must watch nice places also looking beautifulï½ï½ï½ï½ï thanks rich buddhist culture heritage must visit students study buddhism s history place buddha gautama visited teach arya lingka tara mahayana sutra lingka konda still local people call hills lingka nice place get family members allowing inside checking aadhar cards friends even cousins strictly allowing bojjannakonda lingalakonda two rockcut caves adjacent hillocks situated near village called sankaram kilometres away n sites believed date 4th 9th century ad 3 ï½ must visit go vizag historic site valuable preserve future buddha s great constructions sceneries visit pongal time nice nice place photoshoot visit place rainy season get see full green around hill top pleasant atmosphere peaceful govt take initiative develop good tourist apot majorly facilities improved best tourist place 1st time buddha temple bojjana linda 1 crore lingallu peaceful place family occasion timepass friends good nature view good place nature lovers peace ful place unmarried couples allowed please check visit good place take photos entrance fees buddhist temple underrated spot beautiful must visit s historical place every one visit understand sculpture indian buddhist sthoopas nice place visit family evening time thanks bro enjoy evng good greenery nice place stay time ancient buddhist sculptures available nice place photo shoot historic place buddha family picnic spot peaceful forced thinking good heart cleanliness site proper security statues covered unclean oil inside covered papers plastic ancient rock cut buddha statue well maintained park family group best place picnic architecture buddha super nice attractive place close anakapalli best picnic spot families sculptures budha nice place picnics arrangement 4 tourists b better lord budah temple thousand year s ago good location bueatifull place vsp anakapalli one historic buddhist stupas andhra pradesh must visit place beautiful serene place nice spot photography peace mind guide present location explained structure history nicely good views nice place picnic historic place very good picnics free time visit photo shoots remarkable buddhist place vizag s historical place visit vishakapatnam roads good enter inside u feel something spiritual peace place best visit family friends someone s really peaceful nice traveling gataum budha stup thear drinking water good historical place maintained wellwe find many things related buddhist monks good place types batches seenic place historical spots like buddhist sthoopas peaceful place nice early morning view opens 9am ancient boudhist place beautiful nature nice place relaxation mind calm peacefull historic place need go early next time lot ground cover visit twice month ï½ï½ï½ï½ï½ï½ï½ï½ï½ï½ï½ï½ï½ï½ï½ï½ï½ï½ï½ï nice place top hill whole anakapalli city seen observed plenty telecom towers ï½ï½ï nice peaceful place s nice ï½ï½ï beauty nature see green land lot enjoyment friends family numbers pleasant atmosphere relax students come study exams time excellent ancient site nice water facility put water facility good put benches sitting picnic spot full greenery around old place special place buddhist devotes place historic importance nice view top hill nice place visit marvellous place lap nature spend quality time dear near one s good place family picnics nice location photo shoot must visit spot spots top hill osm good atmosphere beautiful pollution free place enjoyed family friends huge place greenery kids fun good spot photography hill view good sneak place lovers good historical best place spending time friends family gayatriy cell care good place visit cover caves 2 hr s wonderful nice place visit lot greenery old stone structures beautiful views countryside buddhist ruins close vizag good excursion lacks maintenance historical place nice location view historic place reflects rich buddhist heritage india monument buddhist remains one boudhharamam visakha one ancient place need develop tourism spot good place one best tourist place visakhapatnam visited visakhapatnam must onee visit place good historical place enjoyed place much peaceful greenish enjoy lot peaceful nice tourism place devotional people cool weather super place peaceful atmospher good place picnic nice view much good views good historical place gautam buddha followers stayed hill good need maintanance roads ofcourse roads started implement awesome picnic spotvery good archaeological site would nice allow sunrise trek good place embedded beauty nature rock monuments well maintained best place spend time family place pollution one relax enjoy day requires attention maintenance good historical place peaceful place entry fees availability food water best place picnics buddha s sculpture awesome pleasant place good place family outing pinic spart gate open 9am gate closed 5pm nice place super greenary view devotional place also historical place nice location full greenery place could well promoted great picnic spot nature amazing sculpture nice historic place need develop excellent place meet friends cool away city disturbances peaceful place ideal place family picnic beautiful visit place nice developments good place visit day family well know greenery n basic facilities common man available best place never attend best tourist place entertaining ur families good historical place place nice ossm 4 rainy season world famous neglected local people historical site visit good picnic spot well known tourist attraction nice buddhist place visit go 3 pm good experience historical place must protect monument s every indians responsibility good nice place s good place visit family picnic fine calm peaceful place spend time family friends amazing place meditate request maintain place free plastic nice tourism place best photo shoot beautiful family picnic spotplus lots buddhist knowledge absorb good place get peaceful atmosphere bad experience staff behavior place good staff need replace nice place nice learn place going good must visit place dates back hundreds years buddhist temple monastery nice place picnic friends family s good place buddhist monument finally found place near vizag good must visit historical place lord buddha spent time nice place well maintained plastic covers littered around ok place exciting personally superb location one best tourism places vizag historical place less visitors ticket need enter view top first hill drive u madddd excellent budda peacefull area wonderful location awesome badly maintained info boards ppl climbing place lovely amazing visiting place tourism places good atmosphere places maintain problems s historical place nice locations historical place good relaxation venue much tourist placeï½ï½ï½ï½ï½ï½ï½ï½ï½ï½ï½ï½ï½ï½ï½ï½ï½ï nice place picnic gettogether stone made temple famous buddist temple beautiful super beautiful place photoshoot nice place mind relaxing ï½ï½ï nice place visit anakapalli best place rest place beautiful picnics picnics colosed in side monumentsout side ok good historical place ankapalle ap good historical place roads need improve nice view points historic places adventerous hill view simply superbb good tourist place nice history s historical place buddha best tourist attraction place ï½ï½ï superbb tourist place ýýýýýýýýýýýýýýýý ýýý place well maintained greenery awesome good historical place beautiful place ideal mental peace good place visit nice peaceful area large area history dating back hundreds years really super budda place nice place ï½ï½ï good place picnic photoshoot good disappointing timings closing lovely spot peaceful beautiful nature ancient temple must visit nice ï½ï½ï½ï½ nice place visit sthupas thanks bro oldest picnic spot nice place visit garden party approach road bad place clean scenic good good peaceful place nice place public picnics historical place try visit atleast beautiful view nature place old popular place beautiful peaceful place best place spending time friends family nothing topof hill sland steps loved place nice visit nice historic place nice place family picnic famous tourist place around anakapalle peaceful location nt developed nice place needs maintained better one beautiful park visit good sculpture beautiful garden worst place went nt go famous buddhist place anakapalli best place visit jan month historic place located anakapalli historical beautiful place nice one attractive place thats historical place nice went nice historical place presently proper road good place superb place family visit great place presentï½ï½ï½ï½ place peace fresh air great weekend half day trip amazing place must watchï½ï½ï½ï½ good place spend time family pleasant nature famous buddhism rare devotional place nice place tourism buddhist tourist place near anakapalli beautiful place anakpalli excellent view top hill nice place visit family nice place visit family excellent nice place visit family loved environment historical place buddha music plastic allowed site great buddhist place thanks sir nice view excellent place weekend trip best place lovers great place historic super place nice place go enjoy family would surprised see buddhist cultures found nice place full enjoyed lovely picnic spot peaceful place disturbances gud sculpture better timepass ancient buddhist sulpters worth visiting good visit site s lovely place good picnic spot cool great construction best place plan holiday ýýýý ýýý good place picnic perfect oneday trip visakhapatnam must see buddhist site andhrapradesh tourism place gowtham budha superb place one historical places andhra pradesh historical place nice one historic place buddhism best picnic spot one famous buddhist location alot different stories place s looks nice superb nice picnic spot best spot picnic nice place good peacefull place every one visit nice place picnic nice place family outing super development maintainence required nice place stay good place visit family potti lovely place s okay site buddist statues good place get together great great historical place nice ancient place nice tourist place good place beautiful location please nt go nothing instead visit thotlakonda must visit buddhists sites peaceful lovely architecture like nice photo shoot good place family visit superb place see good photo locations beautifull s good lovely heritage place love go every time clean green place good nice location buddhist realm buddisim tourism place vizag spr nice place children adults could improved much super best tourist spot enjoy nice please mind blowing adventure scenic beauty great place travelers ýýýý ýýý nice view transportation facilities place love place tells lucky place good historical place nice place buddism nice historical place nice photograph place nice pictures niceinformation worth visiting serene place nice nice nature place ok fine nice vistable place mine top favourite place peace mind refreshing feel nice historical place vire bad nice place pleasant feel good view nice place s awesome place buddhist rock cut cave cleanliness important maintenance could better beautiful location awesome monuments yes soo nice good place sceneric place historical place visiting ýýýýýý nice place see nice place much historical essence love s buddhist place gud place good atmosphere good boudh place visakhapatnam nice place visit peaceful ï½ï½ï great place ýýýýýý best place hangout cool place beautiful place nice calm place beautiful place bojjanna konda top places best place jeweal near visakhapatnam nice place enjoyment nice ýýýýýýýýýýý ýýý poor facility visitors nyc place nice place treat history lovers good place visit peaceful need improve alot excellent thanks bro s time renovation one time must visit good place ppl visit thanks bro nice place ýýýýýý interesting place good super place people good place visit adbuthaha wonderfull amazing buddhist tourist place good place place full greenary good place visit development need historic place best families nice place enjoy picnic spot super tourist place awsome excellent view good cool atmosphere use helamant area awesome experience picnic spot beauriful great experience lover s park nice place see nice place couples enjoy gardening good place peace superb nice photos ok pieceful place good lot enjoyment enjoyed lot small trekï½ï½ï must visit place area fully enjoyed feel happy need developed beauty nice ok sunrise spot ï½ï½ï buddhist spot good place cool nice suler love place nice good good nice good nice nice nice super good places like trickiest rate regarded differently different groups caves famous buddha sculptures historical relevance ï½'"
      ]
     },
     "execution_count": 166,
     "metadata": {},
     "output_type": "execute_result"
    }
   ],
   "source": [
    "sentence"
   ]
  },
  {
   "cell_type": "code",
   "execution_count": null,
   "id": "527a10a8",
   "metadata": {},
   "outputs": [],
   "source": []
  }
 ],
 "metadata": {
  "kernelspec": {
   "display_name": "Python 3 (ipykernel)",
   "language": "python",
   "name": "python3"
  },
  "language_info": {
   "codemirror_mode": {
    "name": "ipython",
    "version": 3
   },
   "file_extension": ".py",
   "mimetype": "text/x-python",
   "name": "python",
   "nbconvert_exporter": "python",
   "pygments_lexer": "ipython3",
   "version": "3.11.2"
  }
 },
 "nbformat": 4,
 "nbformat_minor": 5
}
