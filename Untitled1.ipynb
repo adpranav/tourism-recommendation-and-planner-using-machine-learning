{
 "cells": [
  {
   "cell_type": "code",
   "execution_count": 1,
   "id": "d12b0b0f",
   "metadata": {},
   "outputs": [],
   "source": [
    "import pandas as pd\n",
    "import numpy as np\n",
    "from selenium import webdriver\n",
    "from selenium.webdriver.common.by import By\n",
    "from selenium.webdriver.support.select import Select\n",
    "from selenium.webdriver.support.ui import WebDriverWait\n",
    "from selenium.webdriver.support import expected_conditions as EC"
   ]
  },
  {
   "cell_type": "code",
   "execution_count": 2,
   "id": "b05cf297",
   "metadata": {},
   "outputs": [],
   "source": [
    "from selenium import webdriver\n",
    "from selenium.webdriver.common.by import By\n",
    "from selenium.webdriver.common.keys import Keys\n",
    "from selenium.webdriver.support.ui import WebDriverWait\n",
    "from selenium.webdriver.support.expected_conditions import presence_of_element_located\n",
    "from selenium.common.exceptions import NoSuchElementException"
   ]
  },
  {
   "cell_type": "code",
   "execution_count": 3,
   "id": "ed631372",
   "metadata": {},
   "outputs": [],
   "source": [
    "from selenium import webdriver\n",
    "from selenium.webdriver.common.by import By"
   ]
  },
  {
   "cell_type": "code",
   "execution_count": 7,
   "id": "6e04fdc8",
   "metadata": {},
   "outputs": [],
   "source": [
    "reviews_df = pd.DataFrame(columns=[\"Review\"])"
   ]
  },
  {
   "cell_type": "code",
   "execution_count": null,
   "id": "c83891fc",
   "metadata": {},
   "outputs": [],
   "source": []
  },
  {
   "cell_type": "code",
   "execution_count": 96,
   "id": "cf06a30e",
   "metadata": {},
   "outputs": [],
   "source": [
    "def scrape_reviews(url):\n",
    "    \n",
    "    driver = webdriver.Edge()\n",
    "    # Visit the URL\n",
    "    driver.get(url)\n",
    "\n",
    "    # Wait until the reviews are loaded\n",
    "    driver.implicitly_wait(5)\n",
    "\n",
    "    # Find the parent div element\n",
    "\n",
    "    # Find the reviews within the parent div\n",
    "    reviews = driver.find_elements(By.CLASS_NAME, \"yCeTE\")\n",
    "\n",
    "    # Extract the review text and store it in a list\n",
    "    review_texts = [review.text for review in reviews]\n",
    "\n",
    "    return review_texts\n"
   ]
  },
  {
   "cell_type": "code",
   "execution_count": 62,
   "id": "88117c24",
   "metadata": {},
   "outputs": [],
   "source": [
    "reviews_df = pd.DataFrame(columns=[\"Review\"])"
   ]
  },
  {
   "cell_type": "code",
   "execution_count": 56,
   "id": "acaa2fc7",
   "metadata": {},
   "outputs": [
    {
     "name": "stderr",
     "output_type": "stream",
     "text": [
      "C:\\Users\\hp\\AppData\\Local\\Temp\\ipykernel_7288\\1217745102.py:9: FutureWarning: The frame.append method is deprecated and will be removed from pandas in a future version. Use pandas.concat instead.\n",
      "  reviews_df = reviews_df.append(pd.DataFrame(page_reviews, columns=[\"Review\"]), ignore_index=True)\n",
      "C:\\Users\\hp\\AppData\\Local\\Temp\\ipykernel_7288\\1217745102.py:9: FutureWarning: The frame.append method is deprecated and will be removed from pandas in a future version. Use pandas.concat instead.\n",
      "  reviews_df = reviews_df.append(pd.DataFrame(page_reviews, columns=[\"Review\"]), ignore_index=True)\n",
      "C:\\Users\\hp\\AppData\\Local\\Temp\\ipykernel_7288\\1217745102.py:9: FutureWarning: The frame.append method is deprecated and will be removed from pandas in a future version. Use pandas.concat instead.\n",
      "  reviews_df = reviews_df.append(pd.DataFrame(page_reviews, columns=[\"Review\"]), ignore_index=True)\n",
      "C:\\Users\\hp\\AppData\\Local\\Temp\\ipykernel_7288\\1217745102.py:9: FutureWarning: The frame.append method is deprecated and will be removed from pandas in a future version. Use pandas.concat instead.\n",
      "  reviews_df = reviews_df.append(pd.DataFrame(page_reviews, columns=[\"Review\"]), ignore_index=True)\n",
      "C:\\Users\\hp\\AppData\\Local\\Temp\\ipykernel_7288\\1217745102.py:9: FutureWarning: The frame.append method is deprecated and will be removed from pandas in a future version. Use pandas.concat instead.\n",
      "  reviews_df = reviews_df.append(pd.DataFrame(page_reviews, columns=[\"Review\"]), ignore_index=True)\n",
      "C:\\Users\\hp\\AppData\\Local\\Temp\\ipykernel_7288\\1217745102.py:9: FutureWarning: The frame.append method is deprecated and will be removed from pandas in a future version. Use pandas.concat instead.\n",
      "  reviews_df = reviews_df.append(pd.DataFrame(page_reviews, columns=[\"Review\"]), ignore_index=True)\n",
      "C:\\Users\\hp\\AppData\\Local\\Temp\\ipykernel_7288\\1217745102.py:9: FutureWarning: The frame.append method is deprecated and will be removed from pandas in a future version. Use pandas.concat instead.\n",
      "  reviews_df = reviews_df.append(pd.DataFrame(page_reviews, columns=[\"Review\"]), ignore_index=True)\n",
      "C:\\Users\\hp\\AppData\\Local\\Temp\\ipykernel_7288\\1217745102.py:9: FutureWarning: The frame.append method is deprecated and will be removed from pandas in a future version. Use pandas.concat instead.\n",
      "  reviews_df = reviews_df.append(pd.DataFrame(page_reviews, columns=[\"Review\"]), ignore_index=True)\n",
      "C:\\Users\\hp\\AppData\\Local\\Temp\\ipykernel_7288\\1217745102.py:9: FutureWarning: The frame.append method is deprecated and will be removed from pandas in a future version. Use pandas.concat instead.\n",
      "  reviews_df = reviews_df.append(pd.DataFrame(page_reviews, columns=[\"Review\"]), ignore_index=True)\n",
      "C:\\Users\\hp\\AppData\\Local\\Temp\\ipykernel_7288\\1217745102.py:9: FutureWarning: The frame.append method is deprecated and will be removed from pandas in a future version. Use pandas.concat instead.\n",
      "  reviews_df = reviews_df.append(pd.DataFrame(page_reviews, columns=[\"Review\"]), ignore_index=True)\n",
      "C:\\Users\\hp\\AppData\\Local\\Temp\\ipykernel_7288\\1217745102.py:9: FutureWarning: The frame.append method is deprecated and will be removed from pandas in a future version. Use pandas.concat instead.\n",
      "  reviews_df = reviews_df.append(pd.DataFrame(page_reviews, columns=[\"Review\"]), ignore_index=True)\n",
      "C:\\Users\\hp\\AppData\\Local\\Temp\\ipykernel_7288\\1217745102.py:9: FutureWarning: The frame.append method is deprecated and will be removed from pandas in a future version. Use pandas.concat instead.\n",
      "  reviews_df = reviews_df.append(pd.DataFrame(page_reviews, columns=[\"Review\"]), ignore_index=True)\n",
      "C:\\Users\\hp\\AppData\\Local\\Temp\\ipykernel_7288\\1217745102.py:9: FutureWarning: The frame.append method is deprecated and will be removed from pandas in a future version. Use pandas.concat instead.\n",
      "  reviews_df = reviews_df.append(pd.DataFrame(page_reviews, columns=[\"Review\"]), ignore_index=True)\n",
      "C:\\Users\\hp\\AppData\\Local\\Temp\\ipykernel_7288\\1217745102.py:9: FutureWarning: The frame.append method is deprecated and will be removed from pandas in a future version. Use pandas.concat instead.\n",
      "  reviews_df = reviews_df.append(pd.DataFrame(page_reviews, columns=[\"Review\"]), ignore_index=True)\n",
      "C:\\Users\\hp\\AppData\\Local\\Temp\\ipykernel_7288\\1217745102.py:9: FutureWarning: The frame.append method is deprecated and will be removed from pandas in a future version. Use pandas.concat instead.\n",
      "  reviews_df = reviews_df.append(pd.DataFrame(page_reviews, columns=[\"Review\"]), ignore_index=True)\n",
      "C:\\Users\\hp\\AppData\\Local\\Temp\\ipykernel_7288\\1217745102.py:9: FutureWarning: The frame.append method is deprecated and will be removed from pandas in a future version. Use pandas.concat instead.\n",
      "  reviews_df = reviews_df.append(pd.DataFrame(page_reviews, columns=[\"Review\"]), ignore_index=True)\n",
      "C:\\Users\\hp\\AppData\\Local\\Temp\\ipykernel_7288\\1217745102.py:9: FutureWarning: The frame.append method is deprecated and will be removed from pandas in a future version. Use pandas.concat instead.\n",
      "  reviews_df = reviews_df.append(pd.DataFrame(page_reviews, columns=[\"Review\"]), ignore_index=True)\n",
      "C:\\Users\\hp\\AppData\\Local\\Temp\\ipykernel_7288\\1217745102.py:9: FutureWarning: The frame.append method is deprecated and will be removed from pandas in a future version. Use pandas.concat instead.\n",
      "  reviews_df = reviews_df.append(pd.DataFrame(page_reviews, columns=[\"Review\"]), ignore_index=True)\n",
      "C:\\Users\\hp\\AppData\\Local\\Temp\\ipykernel_7288\\1217745102.py:9: FutureWarning: The frame.append method is deprecated and will be removed from pandas in a future version. Use pandas.concat instead.\n",
      "  reviews_df = reviews_df.append(pd.DataFrame(page_reviews, columns=[\"Review\"]), ignore_index=True)\n",
      "C:\\Users\\hp\\AppData\\Local\\Temp\\ipykernel_7288\\1217745102.py:9: FutureWarning: The frame.append method is deprecated and will be removed from pandas in a future version. Use pandas.concat instead.\n",
      "  reviews_df = reviews_df.append(pd.DataFrame(page_reviews, columns=[\"Review\"]), ignore_index=True)\n",
      "C:\\Users\\hp\\AppData\\Local\\Temp\\ipykernel_7288\\1217745102.py:9: FutureWarning: The frame.append method is deprecated and will be removed from pandas in a future version. Use pandas.concat instead.\n",
      "  reviews_df = reviews_df.append(pd.DataFrame(page_reviews, columns=[\"Review\"]), ignore_index=True)\n",
      "C:\\Users\\hp\\AppData\\Local\\Temp\\ipykernel_7288\\1217745102.py:9: FutureWarning: The frame.append method is deprecated and will be removed from pandas in a future version. Use pandas.concat instead.\n",
      "  reviews_df = reviews_df.append(pd.DataFrame(page_reviews, columns=[\"Review\"]), ignore_index=True)\n",
      "C:\\Users\\hp\\AppData\\Local\\Temp\\ipykernel_7288\\1217745102.py:9: FutureWarning: The frame.append method is deprecated and will be removed from pandas in a future version. Use pandas.concat instead.\n",
      "  reviews_df = reviews_df.append(pd.DataFrame(page_reviews, columns=[\"Review\"]), ignore_index=True)\n",
      "C:\\Users\\hp\\AppData\\Local\\Temp\\ipykernel_7288\\1217745102.py:9: FutureWarning: The frame.append method is deprecated and will be removed from pandas in a future version. Use pandas.concat instead.\n",
      "  reviews_df = reviews_df.append(pd.DataFrame(page_reviews, columns=[\"Review\"]), ignore_index=True)\n",
      "C:\\Users\\hp\\AppData\\Local\\Temp\\ipykernel_7288\\1217745102.py:9: FutureWarning: The frame.append method is deprecated and will be removed from pandas in a future version. Use pandas.concat instead.\n",
      "  reviews_df = reviews_df.append(pd.DataFrame(page_reviews, columns=[\"Review\"]), ignore_index=True)\n",
      "C:\\Users\\hp\\AppData\\Local\\Temp\\ipykernel_7288\\1217745102.py:9: FutureWarning: The frame.append method is deprecated and will be removed from pandas in a future version. Use pandas.concat instead.\n",
      "  reviews_df = reviews_df.append(pd.DataFrame(page_reviews, columns=[\"Review\"]), ignore_index=True)\n",
      "C:\\Users\\hp\\AppData\\Local\\Temp\\ipykernel_7288\\1217745102.py:9: FutureWarning: The frame.append method is deprecated and will be removed from pandas in a future version. Use pandas.concat instead.\n",
      "  reviews_df = reviews_df.append(pd.DataFrame(page_reviews, columns=[\"Review\"]), ignore_index=True)\n",
      "C:\\Users\\hp\\AppData\\Local\\Temp\\ipykernel_7288\\1217745102.py:9: FutureWarning: The frame.append method is deprecated and will be removed from pandas in a future version. Use pandas.concat instead.\n",
      "  reviews_df = reviews_df.append(pd.DataFrame(page_reviews, columns=[\"Review\"]), ignore_index=True)\n"
     ]
    },
    {
     "name": "stderr",
     "output_type": "stream",
     "text": [
      "C:\\Users\\hp\\AppData\\Local\\Temp\\ipykernel_7288\\1217745102.py:9: FutureWarning: The frame.append method is deprecated and will be removed from pandas in a future version. Use pandas.concat instead.\n",
      "  reviews_df = reviews_df.append(pd.DataFrame(page_reviews, columns=[\"Review\"]), ignore_index=True)\n",
      "C:\\Users\\hp\\AppData\\Local\\Temp\\ipykernel_7288\\1217745102.py:9: FutureWarning: The frame.append method is deprecated and will be removed from pandas in a future version. Use pandas.concat instead.\n",
      "  reviews_df = reviews_df.append(pd.DataFrame(page_reviews, columns=[\"Review\"]), ignore_index=True)\n",
      "C:\\Users\\hp\\AppData\\Local\\Temp\\ipykernel_7288\\1217745102.py:9: FutureWarning: The frame.append method is deprecated and will be removed from pandas in a future version. Use pandas.concat instead.\n",
      "  reviews_df = reviews_df.append(pd.DataFrame(page_reviews, columns=[\"Review\"]), ignore_index=True)\n",
      "C:\\Users\\hp\\AppData\\Local\\Temp\\ipykernel_7288\\1217745102.py:9: FutureWarning: The frame.append method is deprecated and will be removed from pandas in a future version. Use pandas.concat instead.\n",
      "  reviews_df = reviews_df.append(pd.DataFrame(page_reviews, columns=[\"Review\"]), ignore_index=True)\n",
      "C:\\Users\\hp\\AppData\\Local\\Temp\\ipykernel_7288\\1217745102.py:9: FutureWarning: The frame.append method is deprecated and will be removed from pandas in a future version. Use pandas.concat instead.\n",
      "  reviews_df = reviews_df.append(pd.DataFrame(page_reviews, columns=[\"Review\"]), ignore_index=True)\n",
      "C:\\Users\\hp\\AppData\\Local\\Temp\\ipykernel_7288\\1217745102.py:9: FutureWarning: The frame.append method is deprecated and will be removed from pandas in a future version. Use pandas.concat instead.\n",
      "  reviews_df = reviews_df.append(pd.DataFrame(page_reviews, columns=[\"Review\"]), ignore_index=True)\n",
      "C:\\Users\\hp\\AppData\\Local\\Temp\\ipykernel_7288\\1217745102.py:9: FutureWarning: The frame.append method is deprecated and will be removed from pandas in a future version. Use pandas.concat instead.\n",
      "  reviews_df = reviews_df.append(pd.DataFrame(page_reviews, columns=[\"Review\"]), ignore_index=True)\n",
      "C:\\Users\\hp\\AppData\\Local\\Temp\\ipykernel_7288\\1217745102.py:9: FutureWarning: The frame.append method is deprecated and will be removed from pandas in a future version. Use pandas.concat instead.\n",
      "  reviews_df = reviews_df.append(pd.DataFrame(page_reviews, columns=[\"Review\"]), ignore_index=True)\n",
      "C:\\Users\\hp\\AppData\\Local\\Temp\\ipykernel_7288\\1217745102.py:9: FutureWarning: The frame.append method is deprecated and will be removed from pandas in a future version. Use pandas.concat instead.\n",
      "  reviews_df = reviews_df.append(pd.DataFrame(page_reviews, columns=[\"Review\"]), ignore_index=True)\n",
      "C:\\Users\\hp\\AppData\\Local\\Temp\\ipykernel_7288\\1217745102.py:9: FutureWarning: The frame.append method is deprecated and will be removed from pandas in a future version. Use pandas.concat instead.\n",
      "  reviews_df = reviews_df.append(pd.DataFrame(page_reviews, columns=[\"Review\"]), ignore_index=True)\n",
      "C:\\Users\\hp\\AppData\\Local\\Temp\\ipykernel_7288\\1217745102.py:9: FutureWarning: The frame.append method is deprecated and will be removed from pandas in a future version. Use pandas.concat instead.\n",
      "  reviews_df = reviews_df.append(pd.DataFrame(page_reviews, columns=[\"Review\"]), ignore_index=True)\n",
      "C:\\Users\\hp\\AppData\\Local\\Temp\\ipykernel_7288\\1217745102.py:9: FutureWarning: The frame.append method is deprecated and will be removed from pandas in a future version. Use pandas.concat instead.\n",
      "  reviews_df = reviews_df.append(pd.DataFrame(page_reviews, columns=[\"Review\"]), ignore_index=True)\n",
      "C:\\Users\\hp\\AppData\\Local\\Temp\\ipykernel_7288\\1217745102.py:9: FutureWarning: The frame.append method is deprecated and will be removed from pandas in a future version. Use pandas.concat instead.\n",
      "  reviews_df = reviews_df.append(pd.DataFrame(page_reviews, columns=[\"Review\"]), ignore_index=True)\n",
      "C:\\Users\\hp\\AppData\\Local\\Temp\\ipykernel_7288\\1217745102.py:9: FutureWarning: The frame.append method is deprecated and will be removed from pandas in a future version. Use pandas.concat instead.\n",
      "  reviews_df = reviews_df.append(pd.DataFrame(page_reviews, columns=[\"Review\"]), ignore_index=True)\n",
      "C:\\Users\\hp\\AppData\\Local\\Temp\\ipykernel_7288\\1217745102.py:9: FutureWarning: The frame.append method is deprecated and will be removed from pandas in a future version. Use pandas.concat instead.\n",
      "  reviews_df = reviews_df.append(pd.DataFrame(page_reviews, columns=[\"Review\"]), ignore_index=True)\n",
      "C:\\Users\\hp\\AppData\\Local\\Temp\\ipykernel_7288\\1217745102.py:9: FutureWarning: The frame.append method is deprecated and will be removed from pandas in a future version. Use pandas.concat instead.\n",
      "  reviews_df = reviews_df.append(pd.DataFrame(page_reviews, columns=[\"Review\"]), ignore_index=True)\n",
      "C:\\Users\\hp\\AppData\\Local\\Temp\\ipykernel_7288\\1217745102.py:9: FutureWarning: The frame.append method is deprecated and will be removed from pandas in a future version. Use pandas.concat instead.\n",
      "  reviews_df = reviews_df.append(pd.DataFrame(page_reviews, columns=[\"Review\"]), ignore_index=True)\n",
      "C:\\Users\\hp\\AppData\\Local\\Temp\\ipykernel_7288\\1217745102.py:9: FutureWarning: The frame.append method is deprecated and will be removed from pandas in a future version. Use pandas.concat instead.\n",
      "  reviews_df = reviews_df.append(pd.DataFrame(page_reviews, columns=[\"Review\"]), ignore_index=True)\n",
      "C:\\Users\\hp\\AppData\\Local\\Temp\\ipykernel_7288\\1217745102.py:9: FutureWarning: The frame.append method is deprecated and will be removed from pandas in a future version. Use pandas.concat instead.\n",
      "  reviews_df = reviews_df.append(pd.DataFrame(page_reviews, columns=[\"Review\"]), ignore_index=True)\n",
      "C:\\Users\\hp\\AppData\\Local\\Temp\\ipykernel_7288\\1217745102.py:9: FutureWarning: The frame.append method is deprecated and will be removed from pandas in a future version. Use pandas.concat instead.\n",
      "  reviews_df = reviews_df.append(pd.DataFrame(page_reviews, columns=[\"Review\"]), ignore_index=True)\n",
      "C:\\Users\\hp\\AppData\\Local\\Temp\\ipykernel_7288\\1217745102.py:9: FutureWarning: The frame.append method is deprecated and will be removed from pandas in a future version. Use pandas.concat instead.\n",
      "  reviews_df = reviews_df.append(pd.DataFrame(page_reviews, columns=[\"Review\"]), ignore_index=True)\n",
      "C:\\Users\\hp\\AppData\\Local\\Temp\\ipykernel_7288\\1217745102.py:9: FutureWarning: The frame.append method is deprecated and will be removed from pandas in a future version. Use pandas.concat instead.\n",
      "  reviews_df = reviews_df.append(pd.DataFrame(page_reviews, columns=[\"Review\"]), ignore_index=True)\n",
      "C:\\Users\\hp\\AppData\\Local\\Temp\\ipykernel_7288\\1217745102.py:9: FutureWarning: The frame.append method is deprecated and will be removed from pandas in a future version. Use pandas.concat instead.\n",
      "  reviews_df = reviews_df.append(pd.DataFrame(page_reviews, columns=[\"Review\"]), ignore_index=True)\n",
      "C:\\Users\\hp\\AppData\\Local\\Temp\\ipykernel_7288\\1217745102.py:9: FutureWarning: The frame.append method is deprecated and will be removed from pandas in a future version. Use pandas.concat instead.\n",
      "  reviews_df = reviews_df.append(pd.DataFrame(page_reviews, columns=[\"Review\"]), ignore_index=True)\n",
      "C:\\Users\\hp\\AppData\\Local\\Temp\\ipykernel_7288\\1217745102.py:9: FutureWarning: The frame.append method is deprecated and will be removed from pandas in a future version. Use pandas.concat instead.\n",
      "  reviews_df = reviews_df.append(pd.DataFrame(page_reviews, columns=[\"Review\"]), ignore_index=True)\n",
      "C:\\Users\\hp\\AppData\\Local\\Temp\\ipykernel_7288\\1217745102.py:9: FutureWarning: The frame.append method is deprecated and will be removed from pandas in a future version. Use pandas.concat instead.\n",
      "  reviews_df = reviews_df.append(pd.DataFrame(page_reviews, columns=[\"Review\"]), ignore_index=True)\n",
      "C:\\Users\\hp\\AppData\\Local\\Temp\\ipykernel_7288\\1217745102.py:9: FutureWarning: The frame.append method is deprecated and will be removed from pandas in a future version. Use pandas.concat instead.\n",
      "  reviews_df = reviews_df.append(pd.DataFrame(page_reviews, columns=[\"Review\"]), ignore_index=True)\n",
      "C:\\Users\\hp\\AppData\\Local\\Temp\\ipykernel_7288\\1217745102.py:9: FutureWarning: The frame.append method is deprecated and will be removed from pandas in a future version. Use pandas.concat instead.\n",
      "  reviews_df = reviews_df.append(pd.DataFrame(page_reviews, columns=[\"Review\"]), ignore_index=True)\n"
     ]
    },
    {
     "name": "stderr",
     "output_type": "stream",
     "text": [
      "C:\\Users\\hp\\AppData\\Local\\Temp\\ipykernel_7288\\1217745102.py:9: FutureWarning: The frame.append method is deprecated and will be removed from pandas in a future version. Use pandas.concat instead.\n",
      "  reviews_df = reviews_df.append(pd.DataFrame(page_reviews, columns=[\"Review\"]), ignore_index=True)\n",
      "C:\\Users\\hp\\AppData\\Local\\Temp\\ipykernel_7288\\1217745102.py:9: FutureWarning: The frame.append method is deprecated and will be removed from pandas in a future version. Use pandas.concat instead.\n",
      "  reviews_df = reviews_df.append(pd.DataFrame(page_reviews, columns=[\"Review\"]), ignore_index=True)\n",
      "C:\\Users\\hp\\AppData\\Local\\Temp\\ipykernel_7288\\1217745102.py:9: FutureWarning: The frame.append method is deprecated and will be removed from pandas in a future version. Use pandas.concat instead.\n",
      "  reviews_df = reviews_df.append(pd.DataFrame(page_reviews, columns=[\"Review\"]), ignore_index=True)\n",
      "C:\\Users\\hp\\AppData\\Local\\Temp\\ipykernel_7288\\1217745102.py:9: FutureWarning: The frame.append method is deprecated and will be removed from pandas in a future version. Use pandas.concat instead.\n",
      "  reviews_df = reviews_df.append(pd.DataFrame(page_reviews, columns=[\"Review\"]), ignore_index=True)\n",
      "C:\\Users\\hp\\AppData\\Local\\Temp\\ipykernel_7288\\1217745102.py:9: FutureWarning: The frame.append method is deprecated and will be removed from pandas in a future version. Use pandas.concat instead.\n",
      "  reviews_df = reviews_df.append(pd.DataFrame(page_reviews, columns=[\"Review\"]), ignore_index=True)\n",
      "C:\\Users\\hp\\AppData\\Local\\Temp\\ipykernel_7288\\1217745102.py:9: FutureWarning: The frame.append method is deprecated and will be removed from pandas in a future version. Use pandas.concat instead.\n",
      "  reviews_df = reviews_df.append(pd.DataFrame(page_reviews, columns=[\"Review\"]), ignore_index=True)\n",
      "C:\\Users\\hp\\AppData\\Local\\Temp\\ipykernel_7288\\1217745102.py:9: FutureWarning: The frame.append method is deprecated and will be removed from pandas in a future version. Use pandas.concat instead.\n",
      "  reviews_df = reviews_df.append(pd.DataFrame(page_reviews, columns=[\"Review\"]), ignore_index=True)\n",
      "C:\\Users\\hp\\AppData\\Local\\Temp\\ipykernel_7288\\1217745102.py:9: FutureWarning: The frame.append method is deprecated and will be removed from pandas in a future version. Use pandas.concat instead.\n",
      "  reviews_df = reviews_df.append(pd.DataFrame(page_reviews, columns=[\"Review\"]), ignore_index=True)\n",
      "C:\\Users\\hp\\AppData\\Local\\Temp\\ipykernel_7288\\1217745102.py:9: FutureWarning: The frame.append method is deprecated and will be removed from pandas in a future version. Use pandas.concat instead.\n",
      "  reviews_df = reviews_df.append(pd.DataFrame(page_reviews, columns=[\"Review\"]), ignore_index=True)\n",
      "C:\\Users\\hp\\AppData\\Local\\Temp\\ipykernel_7288\\1217745102.py:9: FutureWarning: The frame.append method is deprecated and will be removed from pandas in a future version. Use pandas.concat instead.\n",
      "  reviews_df = reviews_df.append(pd.DataFrame(page_reviews, columns=[\"Review\"]), ignore_index=True)\n",
      "C:\\Users\\hp\\AppData\\Local\\Temp\\ipykernel_7288\\1217745102.py:9: FutureWarning: The frame.append method is deprecated and will be removed from pandas in a future version. Use pandas.concat instead.\n",
      "  reviews_df = reviews_df.append(pd.DataFrame(page_reviews, columns=[\"Review\"]), ignore_index=True)\n",
      "C:\\Users\\hp\\AppData\\Local\\Temp\\ipykernel_7288\\1217745102.py:9: FutureWarning: The frame.append method is deprecated and will be removed from pandas in a future version. Use pandas.concat instead.\n",
      "  reviews_df = reviews_df.append(pd.DataFrame(page_reviews, columns=[\"Review\"]), ignore_index=True)\n",
      "C:\\Users\\hp\\AppData\\Local\\Temp\\ipykernel_7288\\1217745102.py:9: FutureWarning: The frame.append method is deprecated and will be removed from pandas in a future version. Use pandas.concat instead.\n",
      "  reviews_df = reviews_df.append(pd.DataFrame(page_reviews, columns=[\"Review\"]), ignore_index=True)\n",
      "C:\\Users\\hp\\AppData\\Local\\Temp\\ipykernel_7288\\1217745102.py:9: FutureWarning: The frame.append method is deprecated and will be removed from pandas in a future version. Use pandas.concat instead.\n",
      "  reviews_df = reviews_df.append(pd.DataFrame(page_reviews, columns=[\"Review\"]), ignore_index=True)\n",
      "C:\\Users\\hp\\AppData\\Local\\Temp\\ipykernel_7288\\1217745102.py:9: FutureWarning: The frame.append method is deprecated and will be removed from pandas in a future version. Use pandas.concat instead.\n",
      "  reviews_df = reviews_df.append(pd.DataFrame(page_reviews, columns=[\"Review\"]), ignore_index=True)\n",
      "C:\\Users\\hp\\AppData\\Local\\Temp\\ipykernel_7288\\1217745102.py:9: FutureWarning: The frame.append method is deprecated and will be removed from pandas in a future version. Use pandas.concat instead.\n",
      "  reviews_df = reviews_df.append(pd.DataFrame(page_reviews, columns=[\"Review\"]), ignore_index=True)\n",
      "C:\\Users\\hp\\AppData\\Local\\Temp\\ipykernel_7288\\1217745102.py:9: FutureWarning: The frame.append method is deprecated and will be removed from pandas in a future version. Use pandas.concat instead.\n",
      "  reviews_df = reviews_df.append(pd.DataFrame(page_reviews, columns=[\"Review\"]), ignore_index=True)\n",
      "C:\\Users\\hp\\AppData\\Local\\Temp\\ipykernel_7288\\1217745102.py:9: FutureWarning: The frame.append method is deprecated and will be removed from pandas in a future version. Use pandas.concat instead.\n",
      "  reviews_df = reviews_df.append(pd.DataFrame(page_reviews, columns=[\"Review\"]), ignore_index=True)\n",
      "C:\\Users\\hp\\AppData\\Local\\Temp\\ipykernel_7288\\1217745102.py:9: FutureWarning: The frame.append method is deprecated and will be removed from pandas in a future version. Use pandas.concat instead.\n",
      "  reviews_df = reviews_df.append(pd.DataFrame(page_reviews, columns=[\"Review\"]), ignore_index=True)\n",
      "C:\\Users\\hp\\AppData\\Local\\Temp\\ipykernel_7288\\1217745102.py:9: FutureWarning: The frame.append method is deprecated and will be removed from pandas in a future version. Use pandas.concat instead.\n",
      "  reviews_df = reviews_df.append(pd.DataFrame(page_reviews, columns=[\"Review\"]), ignore_index=True)\n",
      "C:\\Users\\hp\\AppData\\Local\\Temp\\ipykernel_7288\\1217745102.py:9: FutureWarning: The frame.append method is deprecated and will be removed from pandas in a future version. Use pandas.concat instead.\n",
      "  reviews_df = reviews_df.append(pd.DataFrame(page_reviews, columns=[\"Review\"]), ignore_index=True)\n",
      "C:\\Users\\hp\\AppData\\Local\\Temp\\ipykernel_7288\\1217745102.py:9: FutureWarning: The frame.append method is deprecated and will be removed from pandas in a future version. Use pandas.concat instead.\n",
      "  reviews_df = reviews_df.append(pd.DataFrame(page_reviews, columns=[\"Review\"]), ignore_index=True)\n",
      "C:\\Users\\hp\\AppData\\Local\\Temp\\ipykernel_7288\\1217745102.py:9: FutureWarning: The frame.append method is deprecated and will be removed from pandas in a future version. Use pandas.concat instead.\n",
      "  reviews_df = reviews_df.append(pd.DataFrame(page_reviews, columns=[\"Review\"]), ignore_index=True)\n",
      "C:\\Users\\hp\\AppData\\Local\\Temp\\ipykernel_7288\\1217745102.py:9: FutureWarning: The frame.append method is deprecated and will be removed from pandas in a future version. Use pandas.concat instead.\n",
      "  reviews_df = reviews_df.append(pd.DataFrame(page_reviews, columns=[\"Review\"]), ignore_index=True)\n",
      "C:\\Users\\hp\\AppData\\Local\\Temp\\ipykernel_7288\\1217745102.py:9: FutureWarning: The frame.append method is deprecated and will be removed from pandas in a future version. Use pandas.concat instead.\n",
      "  reviews_df = reviews_df.append(pd.DataFrame(page_reviews, columns=[\"Review\"]), ignore_index=True)\n",
      "C:\\Users\\hp\\AppData\\Local\\Temp\\ipykernel_7288\\1217745102.py:9: FutureWarning: The frame.append method is deprecated and will be removed from pandas in a future version. Use pandas.concat instead.\n",
      "  reviews_df = reviews_df.append(pd.DataFrame(page_reviews, columns=[\"Review\"]), ignore_index=True)\n",
      "C:\\Users\\hp\\AppData\\Local\\Temp\\ipykernel_7288\\1217745102.py:9: FutureWarning: The frame.append method is deprecated and will be removed from pandas in a future version. Use pandas.concat instead.\n",
      "  reviews_df = reviews_df.append(pd.DataFrame(page_reviews, columns=[\"Review\"]), ignore_index=True)\n",
      "C:\\Users\\hp\\AppData\\Local\\Temp\\ipykernel_7288\\1217745102.py:9: FutureWarning: The frame.append method is deprecated and will be removed from pandas in a future version. Use pandas.concat instead.\n",
      "  reviews_df = reviews_df.append(pd.DataFrame(page_reviews, columns=[\"Review\"]), ignore_index=True)\n"
     ]
    },
    {
     "name": "stderr",
     "output_type": "stream",
     "text": [
      "C:\\Users\\hp\\AppData\\Local\\Temp\\ipykernel_7288\\1217745102.py:9: FutureWarning: The frame.append method is deprecated and will be removed from pandas in a future version. Use pandas.concat instead.\n",
      "  reviews_df = reviews_df.append(pd.DataFrame(page_reviews, columns=[\"Review\"]), ignore_index=True)\n",
      "C:\\Users\\hp\\AppData\\Local\\Temp\\ipykernel_7288\\1217745102.py:9: FutureWarning: The frame.append method is deprecated and will be removed from pandas in a future version. Use pandas.concat instead.\n",
      "  reviews_df = reviews_df.append(pd.DataFrame(page_reviews, columns=[\"Review\"]), ignore_index=True)\n"
     ]
    }
   ],
   "source": [
    "for page_num in range(0, 86):\n",
    "    # Generate the URL for the current page\n",
    "    url = f\"https://www.tripadvisor.in/Attraction_Review-g297588-d1771431-Reviews-or{page_num}0-Rama_Krishna_Beach-Visakhapatnam_Visakhapatnam_District_Andhra_Pradesh.html\"\n",
    "\n",
    "    # Scrape the reviews from the current page\n",
    "    page_reviews = scrape_reviews(url)\n",
    "\n",
    "    # Add the reviews to the DataFrame\n",
    "    reviews_df = reviews_df.append(pd.DataFrame(page_reviews, columns=[\"Review\"]), ignore_index=True)\n"
   ]
  },
  {
   "cell_type": "code",
   "execution_count": 59,
   "id": "236e0772",
   "metadata": {},
   "outputs": [
    {
     "data": {
      "text/html": [
       "<div>\n",
       "<style scoped>\n",
       "    .dataframe tbody tr th:only-of-type {\n",
       "        vertical-align: middle;\n",
       "    }\n",
       "\n",
       "    .dataframe tbody tr th {\n",
       "        vertical-align: top;\n",
       "    }\n",
       "\n",
       "    .dataframe thead th {\n",
       "        text-align: right;\n",
       "    }\n",
       "</style>\n",
       "<table border=\"1\" class=\"dataframe\">\n",
       "  <thead>\n",
       "    <tr style=\"text-align: right;\">\n",
       "      <th></th>\n",
       "      <th>Review</th>\n",
       "      <th>place</th>\n",
       "    </tr>\n",
       "  </thead>\n",
       "  <tbody>\n",
       "    <tr>\n",
       "      <th>0</th>\n",
       "      <td>RK Beach gets its name from the Ramakrishna Mi...</td>\n",
       "      <td>RK Beach</td>\n",
       "    </tr>\n",
       "    <tr>\n",
       "      <th>1</th>\n",
       "      <td>Today 21Mar23 at Visakhapatnam\\n\\nR K Beach\\n\\...</td>\n",
       "      <td>RK Beach</td>\n",
       "    </tr>\n",
       "    <tr>\n",
       "      <th>2</th>\n",
       "      <td>A beach worth a visit!</td>\n",
       "      <td>RK Beach</td>\n",
       "    </tr>\n",
       "    <tr>\n",
       "      <th>3</th>\n",
       "      <td>An okayish beach with vast sea shore line with...</td>\n",
       "      <td>RK Beach</td>\n",
       "    </tr>\n",
       "    <tr>\n",
       "      <th>4</th>\n",
       "      <td>Refreshing</td>\n",
       "      <td>RK Beach</td>\n",
       "    </tr>\n",
       "    <tr>\n",
       "      <th>...</th>\n",
       "      <td>...</td>\n",
       "      <td>...</td>\n",
       "    </tr>\n",
       "    <tr>\n",
       "      <th>1693</th>\n",
       "      <td>Located in east Andhra pradesh, this beach has...</td>\n",
       "      <td>RK Beach</td>\n",
       "    </tr>\n",
       "    <tr>\n",
       "      <th>1694</th>\n",
       "      <td>Lively and lovely beach</td>\n",
       "      <td>RK Beach</td>\n",
       "    </tr>\n",
       "    <tr>\n",
       "      <th>1695</th>\n",
       "      <td>Spend your entire evening and bit of night in ...</td>\n",
       "      <td>RK Beach</td>\n",
       "    </tr>\n",
       "    <tr>\n",
       "      <th>1696</th>\n",
       "      <td>My Favorite R.K. Beach</td>\n",
       "      <td>RK Beach</td>\n",
       "    </tr>\n",
       "    <tr>\n",
       "      <th>1697</th>\n",
       "      <td>About one month back i visited this wonderful ...</td>\n",
       "      <td>RK Beach</td>\n",
       "    </tr>\n",
       "  </tbody>\n",
       "</table>\n",
       "<p>1698 rows × 2 columns</p>\n",
       "</div>"
      ],
      "text/plain": [
       "                                                 Review     place\n",
       "0     RK Beach gets its name from the Ramakrishna Mi...  RK Beach\n",
       "1     Today 21Mar23 at Visakhapatnam\\n\\nR K Beach\\n\\...  RK Beach\n",
       "2                                A beach worth a visit!  RK Beach\n",
       "3     An okayish beach with vast sea shore line with...  RK Beach\n",
       "4                                            Refreshing  RK Beach\n",
       "...                                                 ...       ...\n",
       "1693  Located in east Andhra pradesh, this beach has...  RK Beach\n",
       "1694                            Lively and lovely beach  RK Beach\n",
       "1695  Spend your entire evening and bit of night in ...  RK Beach\n",
       "1696                             My Favorite R.K. Beach  RK Beach\n",
       "1697  About one month back i visited this wonderful ...  RK Beach\n",
       "\n",
       "[1698 rows x 2 columns]"
      ]
     },
     "execution_count": 59,
     "metadata": {},
     "output_type": "execute_result"
    }
   ],
   "source": [
    "reviews_df[\"place\"]=\"RK Beach\"\n",
    "reviews_df"
   ]
  },
  {
   "cell_type": "code",
   "execution_count": 126,
   "id": "98dcfb02",
   "metadata": {},
   "outputs": [],
   "source": [
    "place=[\"Rushikonda Beach\", \"Kailasagiri\"]\n",
    "links=[f\"https://www.tripadvisor.in/Attraction_Review-g297588-d2324384-Reviews-or{page_num}0-Rishikonda_Beach-Visakhapatnam_Visakhapatnam_District_Andhra_Pradesh.html\",f\"https://www.tripadvisor.in/Attraction_Review-g297588-d3269402-Reviews-or{page_num}0-Kailasagiri-Visakhapatnam_Visakhapatnam_District_Andhra_Pradesh.html\"]"
   ]
  },
  {
   "cell_type": "code",
   "execution_count": 127,
   "id": "1fb7afbf",
   "metadata": {},
   "outputs": [],
   "source": [
    "reviews_df = pd.DataFrame(columns=[\"Review\",\"Place\"])"
   ]
  },
  {
   "cell_type": "code",
   "execution_count": 128,
   "id": "589fa45b",
   "metadata": {},
   "outputs": [
    {
     "name": "stderr",
     "output_type": "stream",
     "text": [
      "C:\\Users\\hp\\AppData\\Local\\Temp\\ipykernel_7288\\2333223859.py:9: FutureWarning: The frame.append method is deprecated and will be removed from pandas in a future version. Use pandas.concat instead.\n",
      "  reviews_df = reviews_df.append(pd.DataFrame(page_reviews, columns=[\"Review\"]), ignore_index=True)\n",
      "C:\\Users\\hp\\AppData\\Local\\Temp\\ipykernel_7288\\2333223859.py:9: FutureWarning: The frame.append method is deprecated and will be removed from pandas in a future version. Use pandas.concat instead.\n",
      "  reviews_df = reviews_df.append(pd.DataFrame(page_reviews, columns=[\"Review\"]), ignore_index=True)\n",
      "C:\\Users\\hp\\AppData\\Local\\Temp\\ipykernel_7288\\2333223859.py:9: FutureWarning: The frame.append method is deprecated and will be removed from pandas in a future version. Use pandas.concat instead.\n",
      "  reviews_df = reviews_df.append(pd.DataFrame(page_reviews, columns=[\"Review\"]), ignore_index=True)\n",
      "C:\\Users\\hp\\AppData\\Local\\Temp\\ipykernel_7288\\2333223859.py:9: FutureWarning: The frame.append method is deprecated and will be removed from pandas in a future version. Use pandas.concat instead.\n",
      "  reviews_df = reviews_df.append(pd.DataFrame(page_reviews, columns=[\"Review\"]), ignore_index=True)\n",
      "C:\\Users\\hp\\AppData\\Local\\Temp\\ipykernel_7288\\2333223859.py:9: FutureWarning: The frame.append method is deprecated and will be removed from pandas in a future version. Use pandas.concat instead.\n",
      "  reviews_df = reviews_df.append(pd.DataFrame(page_reviews, columns=[\"Review\"]), ignore_index=True)\n",
      "C:\\Users\\hp\\AppData\\Local\\Temp\\ipykernel_7288\\2333223859.py:9: FutureWarning: The frame.append method is deprecated and will be removed from pandas in a future version. Use pandas.concat instead.\n",
      "  reviews_df = reviews_df.append(pd.DataFrame(page_reviews, columns=[\"Review\"]), ignore_index=True)\n"
     ]
    }
   ],
   "source": [
    "for i in range(0,2):\n",
    "    url=links[i]\n",
    "    j=0\n",
    "    for page_num in range(5,8):\n",
    "        # Scrape the reviews from the current page\n",
    "        page_reviews = scrape_reviews(url)\n",
    "        j=j+len(page_reviews)\n",
    "        # Add the reviews to the DataFrame\n",
    "        reviews_df = reviews_df.append(pd.DataFrame(page_reviews, columns=[\"Review\"]), ignore_index=True)\n",
    "    reviews_df[\"Place\"][0:j]=place[i]"
   ]
  },
  {
   "cell_type": "code",
   "execution_count": null,
   "id": "84431421",
   "metadata": {},
   "outputs": [],
   "source": [
    "{page_num}"
   ]
  },
  {
   "cell_type": "code",
   "execution_count": null,
   "id": "f57b6a4a",
   "metadata": {},
   "outputs": [],
   "source": [
    "place=[\"Rushikonda Beach\", \"Kailasagiri\",\"Submarine Museum\",\"Aircraft Museum\"]\n",
    "links=[f\"https://www.tripadvisor.in/Attraction_Review-g297588-d2324384-Reviews-or{page_num}0-Rishikonda_Beach-Visakhapatnam_Visakhapatnam_District_Andhra_Pradesh.html\",f\"https://www.tripadvisor.in/Attraction_Review-g297588-d3269402-Reviews-or{page_num}0-Kailasagiri-Visakhapatnam_Visakhapatnam_District_Andhra_Pradesh.html\",f\"https://www.tripadvisor.in/Attraction_Review-g297588-d1749401-Reviews-or{page_num}0-INS_Kurusura_Submarine_Museum-Visakhapatnam_Visakhapatnam_District_Andhra_Pr.html\",f\"https://www.tripadvisor.in/Attraction_Review-g297588-d14050688-Reviews-or{page_num}0-TU_142_Air_Craft_Museum-Visakhapatnam_Visakhapatnam_District_Andhra_Pradesh.html\"]"
   ]
  },
  {
   "cell_type": "code",
   "execution_count": 130,
   "id": "6a775bd7",
   "metadata": {},
   "outputs": [
    {
     "name": "stderr",
     "output_type": "stream",
     "text": [
      "C:\\Users\\hp\\AppData\\Local\\Temp\\ipykernel_7288\\3565089877.py:14: FutureWarning: The frame.append method is deprecated and will be removed from pandas in a future version. Use pandas.concat instead.\n",
      "  reviews_df = reviews_df.append(page_df, ignore_index=True)\n",
      "C:\\Users\\hp\\AppData\\Local\\Temp\\ipykernel_7288\\3565089877.py:14: FutureWarning: The frame.append method is deprecated and will be removed from pandas in a future version. Use pandas.concat instead.\n",
      "  reviews_df = reviews_df.append(page_df, ignore_index=True)\n",
      "C:\\Users\\hp\\AppData\\Local\\Temp\\ipykernel_7288\\3565089877.py:14: FutureWarning: The frame.append method is deprecated and will be removed from pandas in a future version. Use pandas.concat instead.\n",
      "  reviews_df = reviews_df.append(page_df, ignore_index=True)\n",
      "C:\\Users\\hp\\AppData\\Local\\Temp\\ipykernel_7288\\3565089877.py:14: FutureWarning: The frame.append method is deprecated and will be removed from pandas in a future version. Use pandas.concat instead.\n",
      "  reviews_df = reviews_df.append(page_df, ignore_index=True)\n",
      "C:\\Users\\hp\\AppData\\Local\\Temp\\ipykernel_7288\\3565089877.py:14: FutureWarning: The frame.append method is deprecated and will be removed from pandas in a future version. Use pandas.concat instead.\n",
      "  reviews_df = reviews_df.append(page_df, ignore_index=True)\n",
      "C:\\Users\\hp\\AppData\\Local\\Temp\\ipykernel_7288\\3565089877.py:14: FutureWarning: The frame.append method is deprecated and will be removed from pandas in a future version. Use pandas.concat instead.\n",
      "  reviews_df = reviews_df.append(page_df, ignore_index=True)\n"
     ]
    }
   ],
   "source": [
    "reviews_df = pd.DataFrame(columns=[\"Review\", \"Place\"])\n",
    "for i in range(len(place)):\n",
    "    url = links[i]\n",
    "    start_index = len(reviews_df)  # Starting index for the current place\n",
    "\n",
    "    for page_num in range(5, 8):\n",
    "        # Scrape the reviews from the current page\n",
    "        page_reviews = scrape_reviews(url)\n",
    "\n",
    "        # Create a DataFrame for the current page reviews with the \"Place\" column\n",
    "        page_df = pd.DataFrame(page_reviews, columns=[\"Review\"])\n",
    "\n",
    "        # Append the current page reviews to the main DataFrame\n",
    "        reviews_df = reviews_df.append(page_df, ignore_index=True)\n",
    "\n",
    "    end_index = len(reviews_df)  # Ending index for the current place\n",
    "\n",
    "    # Assign the place name to the corresponding rows\n",
    "    reviews_df.loc[start_index:end_index - 1, \"Place\"] = place[i]\n",
    "\n",
    "reviews_df.reset_index(drop=True, inplace=True)\n"
   ]
  },
  {
   "cell_type": "code",
   "execution_count": 133,
   "id": "25349406",
   "metadata": {},
   "outputs": [],
   "source": [
    "reviews_df.to_csv(\"Test.csv\")"
   ]
  },
  {
   "cell_type": "code",
   "execution_count": null,
   "id": "c14e5c1b",
   "metadata": {},
   "outputs": [],
   "source": []
  },
  {
   "cell_type": "code",
   "execution_count": null,
   "id": "aece4dba",
   "metadata": {},
   "outputs": [],
   "source": []
  },
  {
   "cell_type": "code",
   "execution_count": null,
   "id": "2ce276a1",
   "metadata": {},
   "outputs": [],
   "source": [
    "#google maps"
   ]
  },
  {
   "cell_type": "code",
   "execution_count": 15,
   "id": "e0ee52d8",
   "metadata": {},
   "outputs": [],
   "source": [
    "driver = webdriver.Edge()\n",
    "driver.get(\"https://classroom.codingninjas.com/app/classroom/me/19930/content/397547/offering/5664894\")\n",
    "\n",
    "text_array = []"
   ]
  },
  {
   "cell_type": "code",
   "execution_count": 17,
   "id": "333274a1",
   "metadata": {},
   "outputs": [],
   "source": [
    "a=driver.find_elements(By.CLASS_NAME, 'name-and-indicator')"
   ]
  },
  {
   "cell_type": "code",
   "execution_count": 18,
   "id": "eeedca83",
   "metadata": {},
   "outputs": [],
   "source": [
    "for i in a:\n",
    "    text_array.append(i)"
   ]
  },
  {
   "cell_type": "code",
   "execution_count": 20,
   "id": "e83d49cc",
   "metadata": {},
   "outputs": [],
   "source": [
    "14,15,21,22,24\n",
    "\n",
    "text_array[1].click()\n",
    "text_array[10].click()\n",
    "text_array[14].click()  \n",
    "text_array[15].click()  \n",
    "text_array[14].click()  "
   ]
  },
  {
   "cell_type": "code",
   "execution_count": 84,
   "id": "1670597a",
   "metadata": {},
   "outputs": [],
   "source": [
    "from selenium import webdriver\n",
    "from selenium.webdriver.common.action_chains import ActionChains\n",
    "from selenium.webdriver.common.keys import Keys\n",
    "\n",
    "window_width = driver.execute_script(\"return window.innerWidth\")\n",
    "window_height = driver.execute_script(\"return window.innerHeight\")\n",
    "\n",
    "# Calculate the coordinates for the center of the screen\n",
    "center_x = int(window_width / 2)\n",
    "center_y = int(window_height / 2)\n",
    "\n",
    "# Create an instance of ActionChains\n",
    "action_chains = ActionChains(driver)\n",
    "\n",
    "# Perform the click at the center of the screen\n",
    "action_chains.move_by_offset(center_x, center_y).click().perform()"
   ]
  },
  {
   "cell_type": "code",
   "execution_count": 71,
   "id": "c4e14e67",
   "metadata": {},
   "outputs": [
    {
     "data": {
      "text/plain": [
       "420"
      ]
     },
     "execution_count": 71,
     "metadata": {},
     "output_type": "execute_result"
    }
   ],
   "source": [
    "len(text_array)"
   ]
  },
  {
   "cell_type": "code",
   "execution_count": 72,
   "id": "76b541b1",
   "metadata": {},
   "outputs": [],
   "source": [
    "new_dataframe=pd.DataFrame(columns=['Review','Place'])"
   ]
  },
  {
   "cell_type": "code",
   "execution_count": 73,
   "id": "1624c916",
   "metadata": {},
   "outputs": [],
   "source": [
    "new_dataframe['Review']=text_array"
   ]
  },
  {
   "cell_type": "code",
   "execution_count": 74,
   "id": "276b3900",
   "metadata": {},
   "outputs": [],
   "source": [
    "new_dataframe['Place']=\"Tirupati\""
   ]
  },
  {
   "cell_type": "code",
   "execution_count": 75,
   "id": "a4fa6ed5",
   "metadata": {},
   "outputs": [
    {
     "data": {
      "text/html": [
       "<div>\n",
       "<style scoped>\n",
       "    .dataframe tbody tr th:only-of-type {\n",
       "        vertical-align: middle;\n",
       "    }\n",
       "\n",
       "    .dataframe tbody tr th {\n",
       "        vertical-align: top;\n",
       "    }\n",
       "\n",
       "    .dataframe thead th {\n",
       "        text-align: right;\n",
       "    }\n",
       "</style>\n",
       "<table border=\"1\" class=\"dataframe\">\n",
       "  <thead>\n",
       "    <tr style=\"text-align: right;\">\n",
       "      <th></th>\n",
       "      <th>Review</th>\n",
       "      <th>Place</th>\n",
       "    </tr>\n",
       "  </thead>\n",
       "  <tbody>\n",
       "    <tr>\n",
       "      <th>0</th>\n",
       "      <td>ૐ નમો વેંકટેસાય\\nIt's one of the best temples ...</td>\n",
       "      <td>Tirupati</td>\n",
       "    </tr>\n",
       "    <tr>\n",
       "      <th>1</th>\n",
       "      <td>It's one of the best temples I have ever visit...</td>\n",
       "      <td>Tirupati</td>\n",
       "    </tr>\n",
       "    <tr>\n",
       "      <th>2</th>\n",
       "      <td>ॐ नमो वेंकटेश्वराय नमः\\nIt's one of the best t...</td>\n",
       "      <td>Tirupati</td>\n",
       "    </tr>\n",
       "    <tr>\n",
       "      <th>3</th>\n",
       "      <td>The temple is very pure with greenery everywhe...</td>\n",
       "      <td>Tirupati</td>\n",
       "    </tr>\n",
       "    <tr>\n",
       "      <th>4</th>\n",
       "      <td>Very wonderful management and rush management ...</td>\n",
       "      <td>Tirupati</td>\n",
       "    </tr>\n",
       "    <tr>\n",
       "      <th>...</th>\n",
       "      <td>...</td>\n",
       "      <td>...</td>\n",
       "    </tr>\n",
       "    <tr>\n",
       "      <th>415</th>\n",
       "      <td>The magic begins to unleash right from the mom...</td>\n",
       "      <td>Tirupati</td>\n",
       "    </tr>\n",
       "    <tr>\n",
       "      <th>416</th>\n",
       "      <td>Very best tourist places along with devotee .....</td>\n",
       "      <td>Tirupati</td>\n",
       "    </tr>\n",
       "    <tr>\n",
       "      <th>417</th>\n",
       "      <td>Richest Temple in world.one of the beautiful t...</td>\n",
       "      <td>Tirupati</td>\n",
       "    </tr>\n",
       "    <tr>\n",
       "      <th>418</th>\n",
       "      <td>🛑 Tirumala sri venkateshwara swamy vari temple...</td>\n",
       "      <td>Tirupati</td>\n",
       "    </tr>\n",
       "    <tr>\n",
       "      <th>419</th>\n",
       "      <td>No words to say about about this place… This i...</td>\n",
       "      <td>Tirupati</td>\n",
       "    </tr>\n",
       "  </tbody>\n",
       "</table>\n",
       "<p>420 rows × 2 columns</p>\n",
       "</div>"
      ],
      "text/plain": [
       "                                                Review     Place\n",
       "0    ૐ નમો વેંકટેસાય\\nIt's one of the best temples ...  Tirupati\n",
       "1    It's one of the best temples I have ever visit...  Tirupati\n",
       "2    ॐ नमो वेंकटेश्वराय नमः\\nIt's one of the best t...  Tirupati\n",
       "3    The temple is very pure with greenery everywhe...  Tirupati\n",
       "4    Very wonderful management and rush management ...  Tirupati\n",
       "..                                                 ...       ...\n",
       "415  The magic begins to unleash right from the mom...  Tirupati\n",
       "416  Very best tourist places along with devotee .....  Tirupati\n",
       "417  Richest Temple in world.one of the beautiful t...  Tirupati\n",
       "418  🛑 Tirumala sri venkateshwara swamy vari temple...  Tirupati\n",
       "419  No words to say about about this place… This i...  Tirupati\n",
       "\n",
       "[420 rows x 2 columns]"
      ]
     },
     "execution_count": 75,
     "metadata": {},
     "output_type": "execute_result"
    }
   ],
   "source": [
    "new_dataframe"
   ]
  },
  {
   "cell_type": "code",
   "execution_count": 76,
   "id": "a0c9b011",
   "metadata": {},
   "outputs": [],
   "source": [
    "new_dataframe.to_csv('cosine.csv', mode='a', header=False, index=False)"
   ]
  },
  {
   "cell_type": "code",
   "execution_count": 180,
   "id": "f344c1ae",
   "metadata": {},
   "outputs": [],
   "source": [
    "from selenium import webdriver\n",
    "from selenium.webdriver.common.by import By\n",
    "from selenium.webdriver.common.action_chains import ActionChains\n",
    "from selenium.webdriver.common.keys import Keys\n",
    "import time\n",
    "driver.switch_to.default_content()\n",
    "elements = driver.find_elements(By.CLASS_NAME, 'wiI7pd')\n",
    "\n",
    "driver.execute_script(\"window.scrollTo(0, document.body.scrollHeight);\")\n",
    "\n",
    "# Wait for a short period to allow the page to load after scrolling\n",
    "time.sleep(2)"
   ]
  },
  {
   "cell_type": "code",
   "execution_count": 185,
   "id": "50fcd563",
   "metadata": {},
   "outputs": [],
   "source": [
    "container = driver.find_element(By.CLASS_NAME, 'R4aD0e.h2yBfgNjGpc__inline-item-view')"
   ]
  },
  {
   "cell_type": "code",
   "execution_count": 51,
   "id": "ef2e00b3",
   "metadata": {},
   "outputs": [
    {
     "name": "stdout",
     "output_type": "stream",
     "text": [
      "hello\n"
     ]
    }
   ],
   "source": [
    "print(\"hello\")"
   ]
  },
  {
   "cell_type": "code",
   "execution_count": null,
   "id": "d84ef461",
   "metadata": {},
   "outputs": [],
   "source": []
  },
  {
   "cell_type": "code",
   "execution_count": null,
   "id": "8a5738d0",
   "metadata": {},
   "outputs": [],
   "source": []
  },
  {
   "cell_type": "code",
   "execution_count": null,
   "id": "eae5efed",
   "metadata": {},
   "outputs": [],
   "source": []
  },
  {
   "cell_type": "markdown",
   "id": "e0173686",
   "metadata": {},
   "source": [
    "# Google Maps"
   ]
  },
  {
   "cell_type": "code",
   "execution_count": 258,
   "id": "2327ed9a",
   "metadata": {},
   "outputs": [],
   "source": [
    "driver = webdriver.Edge()\n",
    "driver.get(\"https://www.google.com/maps/place/Ramatheertham+Temple/@18.1688647,83.4907458,16z/data=!4m17!1m8!3m7!1s0x3a3bf0dbbdc3f053:0xbb3cfb15fcc30d83!2sRamatheertham,+Andhra+Pradesh!3b1!8m2!3d18.1678708!4d83.4950236!16zL20vMGM3eGw2!3m7!1s0x3a3bf0da50b61c39:0x68000c0ea5207401!8m2!3d18.1673659!4d83.4917774!9m1!1b1!16s%2Fg%2F11c5hjl4kh?entry=ttu\")\n",
    "\n",
    "text_array = []"
   ]
  },
  {
   "cell_type": "code",
   "execution_count": 259,
   "id": "ebec0a2a",
   "metadata": {},
   "outputs": [],
   "source": [
    "text_array = []\n",
    "elements=driver.find_elements(By.CLASS_NAME, 'wiI7pd')"
   ]
  },
  {
   "cell_type": "code",
   "execution_count": 260,
   "id": "25dd6620",
   "metadata": {},
   "outputs": [],
   "source": [
    "text_array = [element.text for element in elements]"
   ]
  },
  {
   "cell_type": "code",
   "execution_count": 261,
   "id": "2a992ee4",
   "metadata": {},
   "outputs": [
    {
     "data": {
      "text/html": [
       "<div>\n",
       "<style scoped>\n",
       "    .dataframe tbody tr th:only-of-type {\n",
       "        vertical-align: middle;\n",
       "    }\n",
       "\n",
       "    .dataframe tbody tr th {\n",
       "        vertical-align: top;\n",
       "    }\n",
       "\n",
       "    .dataframe thead th {\n",
       "        text-align: right;\n",
       "    }\n",
       "</style>\n",
       "<table border=\"1\" class=\"dataframe\">\n",
       "  <thead>\n",
       "    <tr style=\"text-align: right;\">\n",
       "      <th></th>\n",
       "      <th>Review</th>\n",
       "      <th>Place</th>\n",
       "    </tr>\n",
       "  </thead>\n",
       "  <tbody>\n",
       "    <tr>\n",
       "      <th>0</th>\n",
       "      <td>7th avatar of lord Vishnu,more history and mos...</td>\n",
       "      <td>Ramatheertham</td>\n",
       "    </tr>\n",
       "    <tr>\n",
       "      <th>1</th>\n",
       "      <td>Ramateertham is one of the places made sacred ...</td>\n",
       "      <td>Ramatheertham</td>\n",
       "    </tr>\n",
       "    <tr>\n",
       "      <th>2</th>\n",
       "      <td>Very peaceful n historical temple.</td>\n",
       "      <td>Ramatheertham</td>\n",
       "    </tr>\n",
       "    <tr>\n",
       "      <th>3</th>\n",
       "      <td>ramatheertham is in vizianyanagaram .\\nit take...</td>\n",
       "      <td>Ramatheertham</td>\n",
       "    </tr>\n",
       "    <tr>\n",
       "      <th>4</th>\n",
       "      <td>Ancient stories related. Surely had some conne...</td>\n",
       "      <td>Ramatheertham</td>\n",
       "    </tr>\n",
       "    <tr>\n",
       "      <th>...</th>\n",
       "      <td>...</td>\n",
       "      <td>...</td>\n",
       "    </tr>\n",
       "    <tr>\n",
       "      <th>277</th>\n",
       "      <td>Very good</td>\n",
       "      <td>Ramatheertham</td>\n",
       "    </tr>\n",
       "    <tr>\n",
       "      <th>278</th>\n",
       "      <td>These photos were taken on Mukkoti Ekadash …</td>\n",
       "      <td>Ramatheertham</td>\n",
       "    </tr>\n",
       "    <tr>\n",
       "      <th>279</th>\n",
       "      <td>Jai sriram</td>\n",
       "      <td>Ramatheertham</td>\n",
       "    </tr>\n",
       "    <tr>\n",
       "      <th>280</th>\n",
       "      <td>Jai sareeram</td>\n",
       "      <td>Ramatheertham</td>\n",
       "    </tr>\n",
       "    <tr>\n",
       "      <th>281</th>\n",
       "      <td>Jai Sri Ram is a very holy shrine</td>\n",
       "      <td>Ramatheertham</td>\n",
       "    </tr>\n",
       "  </tbody>\n",
       "</table>\n",
       "<p>282 rows × 2 columns</p>\n",
       "</div>"
      ],
      "text/plain": [
       "                                                Review          Place\n",
       "0    7th avatar of lord Vishnu,more history and mos...  Ramatheertham\n",
       "1    Ramateertham is one of the places made sacred ...  Ramatheertham\n",
       "2                   Very peaceful n historical temple.  Ramatheertham\n",
       "3    ramatheertham is in vizianyanagaram .\\nit take...  Ramatheertham\n",
       "4    Ancient stories related. Surely had some conne...  Ramatheertham\n",
       "..                                                 ...            ...\n",
       "277                                          Very good  Ramatheertham\n",
       "278       These photos were taken on Mukkoti Ekadash …  Ramatheertham\n",
       "279                                         Jai sriram  Ramatheertham\n",
       "280                                       Jai sareeram  Ramatheertham\n",
       "281                  Jai Sri Ram is a very holy shrine  Ramatheertham\n",
       "\n",
       "[282 rows x 2 columns]"
      ]
     },
     "execution_count": 261,
     "metadata": {},
     "output_type": "execute_result"
    }
   ],
   "source": [
    "new_dataframe=pd.DataFrame(columns=['Review','Place'])\n",
    "new_dataframe['Review']=text_array\n",
    "new_dataframe['Place']=\"Ramatheertham\"\n",
    "new_dataframe"
   ]
  },
  {
   "cell_type": "code",
   "execution_count": 262,
   "id": "c756035a",
   "metadata": {},
   "outputs": [
    {
     "data": {
      "text/plain": [
       "282"
      ]
     },
     "execution_count": 262,
     "metadata": {},
     "output_type": "execute_result"
    }
   ],
   "source": [
    "len(text_array)"
   ]
  },
  {
   "cell_type": "code",
   "execution_count": 263,
   "id": "6f9e37f8",
   "metadata": {},
   "outputs": [],
   "source": [
    "new_dataframe.to_csv('cosine1.csv', mode='a', index=False, header=False)"
   ]
  },
  {
   "cell_type": "code",
   "execution_count": null,
   "id": "63b1c0f8",
   "metadata": {},
   "outputs": [],
   "source": []
  },
  {
   "cell_type": "code",
   "execution_count": 264,
   "id": "c1725db4",
   "metadata": {},
   "outputs": [],
   "source": [
    "df=pd.read_csv('cosine1.csv', encoding='latin-1')"
   ]
  },
  {
   "cell_type": "code",
   "execution_count": 265,
   "id": "5162fdcf",
   "metadata": {},
   "outputs": [
    {
     "data": {
      "text/html": [
       "<div>\n",
       "<style scoped>\n",
       "    .dataframe tbody tr th:only-of-type {\n",
       "        vertical-align: middle;\n",
       "    }\n",
       "\n",
       "    .dataframe tbody tr th {\n",
       "        vertical-align: top;\n",
       "    }\n",
       "\n",
       "    .dataframe thead th {\n",
       "        text-align: right;\n",
       "    }\n",
       "</style>\n",
       "<table border=\"1\" class=\"dataframe\">\n",
       "  <thead>\n",
       "    <tr style=\"text-align: right;\">\n",
       "      <th></th>\n",
       "      <th>ï»¿Review</th>\n",
       "      <th>Place</th>\n",
       "    </tr>\n",
       "  </thead>\n",
       "  <tbody>\n",
       "    <tr>\n",
       "      <th>0</th>\n",
       "      <td>It was one of my first experience going inside...</td>\n",
       "      <td>Borra Caves</td>\n",
       "    </tr>\n",
       "    <tr>\n",
       "      <th>1</th>\n",
       "      <td>Good place to visit here. Here is The road her...</td>\n",
       "      <td>Borra Caves</td>\n",
       "    </tr>\n",
       "    <tr>\n",
       "      <th>2</th>\n",
       "      <td>Visited this place over the weekend. Be carefu...</td>\n",
       "      <td>Borra Caves</td>\n",
       "    </tr>\n",
       "    <tr>\n",
       "      <th>3</th>\n",
       "      <td>Nice neat placeâ¦ with a lot of colourful lig...</td>\n",
       "      <td>Borra Caves</td>\n",
       "    </tr>\n",
       "    <tr>\n",
       "      <th>4</th>\n",
       "      <td>Firstly, this place is very very crowded. They...</td>\n",
       "      <td>Borra Caves</td>\n",
       "    </tr>\n",
       "    <tr>\n",
       "      <th>...</th>\n",
       "      <td>...</td>\n",
       "      <td>...</td>\n",
       "    </tr>\n",
       "    <tr>\n",
       "      <th>8752</th>\n",
       "      <td>Very good</td>\n",
       "      <td>Ramatheertham</td>\n",
       "    </tr>\n",
       "    <tr>\n",
       "      <th>8753</th>\n",
       "      <td>These photos were taken on Mukkoti Ekadash â¦</td>\n",
       "      <td>Ramatheertham</td>\n",
       "    </tr>\n",
       "    <tr>\n",
       "      <th>8754</th>\n",
       "      <td>Jai sriram</td>\n",
       "      <td>Ramatheertham</td>\n",
       "    </tr>\n",
       "    <tr>\n",
       "      <th>8755</th>\n",
       "      <td>Jai sareeram</td>\n",
       "      <td>Ramatheertham</td>\n",
       "    </tr>\n",
       "    <tr>\n",
       "      <th>8756</th>\n",
       "      <td>Jai Sri Ram is a very holy shrine</td>\n",
       "      <td>Ramatheertham</td>\n",
       "    </tr>\n",
       "  </tbody>\n",
       "</table>\n",
       "<p>8757 rows × 2 columns</p>\n",
       "</div>"
      ],
      "text/plain": [
       "                                              ï»¿Review          Place\n",
       "0     It was one of my first experience going inside...    Borra Caves\n",
       "1     Good place to visit here. Here is The road her...    Borra Caves\n",
       "2     Visited this place over the weekend. Be carefu...    Borra Caves\n",
       "3     Nice neat placeâ¦ with a lot of colourful lig...    Borra Caves\n",
       "4     Firstly, this place is very very crowded. They...    Borra Caves\n",
       "...                                                 ...            ...\n",
       "8752                                          Very good  Ramatheertham\n",
       "8753     These photos were taken on Mukkoti Ekadash â¦  Ramatheertham\n",
       "8754                                         Jai sriram  Ramatheertham\n",
       "8755                                       Jai sareeram  Ramatheertham\n",
       "8756                  Jai Sri Ram is a very holy shrine  Ramatheertham\n",
       "\n",
       "[8757 rows x 2 columns]"
      ]
     },
     "execution_count": 265,
     "metadata": {},
     "output_type": "execute_result"
    }
   ],
   "source": [
    "df"
   ]
  },
  {
   "cell_type": "code",
   "execution_count": 86,
   "id": "09a98289",
   "metadata": {},
   "outputs": [],
   "source": [
    "df[\"Place\"][11699:]=\"Tenneti Park Beach\""
   ]
  },
  {
   "cell_type": "code",
   "execution_count": 88,
   "id": "08e74109",
   "metadata": {},
   "outputs": [],
   "source": [
    "df.to_csv(\"cosine.csv\",index=False)"
   ]
  },
  {
   "cell_type": "code",
   "execution_count": null,
   "id": "4cdc0951",
   "metadata": {},
   "outputs": [],
   "source": []
  },
  {
   "cell_type": "code",
   "execution_count": null,
   "id": "3781b5eb",
   "metadata": {},
   "outputs": [],
   "source": []
  },
  {
   "cell_type": "code",
   "execution_count": 266,
   "id": "f685bdcd",
   "metadata": {},
   "outputs": [],
   "source": [
    "import pandas as pd\n",
    "\n",
    "# Read the contents of cosine.csv and cosine1.csv\n",
    "df1 = pd.read_csv('cosine.csv')\n",
    "df2 = pd.read_csv('cosine1.csv')\n",
    "\n",
    "# Merge the data from both files\n",
    "merged_df = pd.concat([df1, df2])\n",
    "\n",
    "# Write the merged data to ua_final.csv\n",
    "merged_df.to_csv('ua_final.csv', index=False)\n"
   ]
  },
  {
   "cell_type": "code",
   "execution_count": null,
   "id": "a1a48835",
   "metadata": {},
   "outputs": [],
   "source": []
  }
 ],
 "metadata": {
  "kernelspec": {
   "display_name": "Python 3 (ipykernel)",
   "language": "python",
   "name": "python3"
  },
  "language_info": {
   "codemirror_mode": {
    "name": "ipython",
    "version": 3
   },
   "file_extension": ".py",
   "mimetype": "text/x-python",
   "name": "python",
   "nbconvert_exporter": "python",
   "pygments_lexer": "ipython3",
   "version": "3.11.2"
  }
 },
 "nbformat": 4,
 "nbformat_minor": 5
}
